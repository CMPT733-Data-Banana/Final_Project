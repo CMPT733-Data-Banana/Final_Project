{
 "cells": [
  {
   "cell_type": "code",
   "execution_count": 1,
   "metadata": {},
   "outputs": [],
   "source": [
    "import pandas as pd"
   ]
  },
  {
   "cell_type": "code",
   "execution_count": 2,
   "metadata": {},
   "outputs": [],
   "source": [
    "import matplotlib.pyplot as plt"
   ]
  },
  {
   "cell_type": "code",
   "execution_count": 3,
   "metadata": {},
   "outputs": [
    {
     "name": "stderr",
     "output_type": "stream",
     "text": [
      "[nltk_data] Downloading package vader_lexicon to\n",
      "[nltk_data]     /Users/Anan/nltk_data...\n",
      "[nltk_data]   Package vader_lexicon is already up-to-date!\n"
     ]
    },
    {
     "data": {
      "text/plain": [
       "True"
      ]
     },
     "execution_count": 3,
     "metadata": {},
     "output_type": "execute_result"
    }
   ],
   "source": [
    "import nltk\n",
    "nltk.download('vader_lexicon')"
   ]
  },
  {
   "cell_type": "code",
   "execution_count": 4,
   "metadata": {},
   "outputs": [],
   "source": [
    "from nltk.sentiment.vader import SentimentIntensityAnalyzer"
   ]
  },
  {
   "cell_type": "code",
   "execution_count": 5,
   "metadata": {},
   "outputs": [],
   "source": [
    "import time\n",
    "import datetime"
   ]
  },
  {
   "cell_type": "code",
   "execution_count": 6,
   "metadata": {},
   "outputs": [],
   "source": [
    "df_open = pd.read_csv(\"reviews_open.csv\")"
   ]
  },
  {
   "cell_type": "code",
   "execution_count": 7,
   "metadata": {},
   "outputs": [
    {
     "data": {
      "text/html": [
       "<div>\n",
       "<style scoped>\n",
       "    .dataframe tbody tr th:only-of-type {\n",
       "        vertical-align: middle;\n",
       "    }\n",
       "\n",
       "    .dataframe tbody tr th {\n",
       "        vertical-align: top;\n",
       "    }\n",
       "\n",
       "    .dataframe thead th {\n",
       "        text-align: right;\n",
       "    }\n",
       "</style>\n",
       "<table border=\"1\" class=\"dataframe\">\n",
       "  <thead>\n",
       "    <tr style=\"text-align: right;\">\n",
       "      <th></th>\n",
       "      <th>business_id</th>\n",
       "      <th>date</th>\n",
       "      <th>user_id</th>\n",
       "      <th>review_id</th>\n",
       "      <th>text</th>\n",
       "      <th>funny</th>\n",
       "      <th>cool</th>\n",
       "      <th>useful</th>\n",
       "      <th>stars</th>\n",
       "    </tr>\n",
       "  </thead>\n",
       "  <tbody>\n",
       "    <tr>\n",
       "      <th>0</th>\n",
       "      <td>KXCXaF5qimmtKKqnPc_LQA</td>\n",
       "      <td>2018-03-03 23:45:25</td>\n",
       "      <td>JHXQEayrDHOWGexs0dCviA</td>\n",
       "      <td>ucFOnqgaV40oQ2YNyz5ddQ</td>\n",
       "      <td>Great coffee and pastries. Baristas are excell...</td>\n",
       "      <td>0</td>\n",
       "      <td>0</td>\n",
       "      <td>0</td>\n",
       "      <td>1.0</td>\n",
       "    </tr>\n",
       "    <tr>\n",
       "      <th>1</th>\n",
       "      <td>jMz_y_-cWMfiZF7Q5snE6Q</td>\n",
       "      <td>2016-01-30 02:39:22</td>\n",
       "      <td>vFnYYmtVwcMGyyGesNImVQ</td>\n",
       "      <td>1OsubwE6zKNU1fkBGxOFrQ</td>\n",
       "      <td>Ordered the original tonkotsu base ramen and a...</td>\n",
       "      <td>0</td>\n",
       "      <td>0</td>\n",
       "      <td>0</td>\n",
       "      <td>5.0</td>\n",
       "    </tr>\n",
       "    <tr>\n",
       "      <th>2</th>\n",
       "      <td>M4jkJHewQXZvDV34Tuon8g</td>\n",
       "      <td>2014-08-10 20:40:15</td>\n",
       "      <td>M20pTzUOo2yD5Cuh5shjSA</td>\n",
       "      <td>KeyNH8Jj05BZGtqjgCFnTg</td>\n",
       "      <td>Had the worst experience there today when I tr...</td>\n",
       "      <td>0</td>\n",
       "      <td>0</td>\n",
       "      <td>0</td>\n",
       "      <td>1.0</td>\n",
       "    </tr>\n",
       "    <tr>\n",
       "      <th>3</th>\n",
       "      <td>VPqWLp9kMiZEbctCebIZUA</td>\n",
       "      <td>2018-09-25 03:22:50</td>\n",
       "      <td>IMfkbLVt_GJfD7zJ9T4fcw</td>\n",
       "      <td>P320Yt8vFD3yjI34hq-umg</td>\n",
       "      <td>Overall is good, is worth the line up I don't ...</td>\n",
       "      <td>0</td>\n",
       "      <td>0</td>\n",
       "      <td>0</td>\n",
       "      <td>3.0</td>\n",
       "    </tr>\n",
       "    <tr>\n",
       "      <th>4</th>\n",
       "      <td>lq0rcFfgZJfzo9UD8bjDuA</td>\n",
       "      <td>2012-08-15 03:50:41</td>\n",
       "      <td>MGUSVcw0yu7tHwy334MFfQ</td>\n",
       "      <td>bJcm9QhIucK-6APjXYz0hw</td>\n",
       "      <td>Been here a few times.  One of the better indi...</td>\n",
       "      <td>0</td>\n",
       "      <td>0</td>\n",
       "      <td>0</td>\n",
       "      <td>4.0</td>\n",
       "    </tr>\n",
       "  </tbody>\n",
       "</table>\n",
       "</div>"
      ],
      "text/plain": [
       "              business_id                 date                 user_id  \\\n",
       "0  KXCXaF5qimmtKKqnPc_LQA  2018-03-03 23:45:25  JHXQEayrDHOWGexs0dCviA   \n",
       "1  jMz_y_-cWMfiZF7Q5snE6Q  2016-01-30 02:39:22  vFnYYmtVwcMGyyGesNImVQ   \n",
       "2  M4jkJHewQXZvDV34Tuon8g  2014-08-10 20:40:15  M20pTzUOo2yD5Cuh5shjSA   \n",
       "3  VPqWLp9kMiZEbctCebIZUA  2018-09-25 03:22:50  IMfkbLVt_GJfD7zJ9T4fcw   \n",
       "4  lq0rcFfgZJfzo9UD8bjDuA  2012-08-15 03:50:41  MGUSVcw0yu7tHwy334MFfQ   \n",
       "\n",
       "                review_id                                               text  \\\n",
       "0  ucFOnqgaV40oQ2YNyz5ddQ  Great coffee and pastries. Baristas are excell...   \n",
       "1  1OsubwE6zKNU1fkBGxOFrQ  Ordered the original tonkotsu base ramen and a...   \n",
       "2  KeyNH8Jj05BZGtqjgCFnTg  Had the worst experience there today when I tr...   \n",
       "3  P320Yt8vFD3yjI34hq-umg  Overall is good, is worth the line up I don't ...   \n",
       "4  bJcm9QhIucK-6APjXYz0hw  Been here a few times.  One of the better indi...   \n",
       "\n",
       "   funny  cool  useful  stars  \n",
       "0      0     0       0    1.0  \n",
       "1      0     0       0    5.0  \n",
       "2      0     0       0    1.0  \n",
       "3      0     0       0    3.0  \n",
       "4      0     0       0    4.0  "
      ]
     },
     "execution_count": 7,
     "metadata": {},
     "output_type": "execute_result"
    }
   ],
   "source": [
    "df_open.head()"
   ]
  },
  {
   "cell_type": "code",
   "execution_count": 8,
   "metadata": {},
   "outputs": [],
   "source": [
    "df_open['date'] = pd.to_datetime(df_open['date'])\n",
    "df_open = df_open.set_index('date')"
   ]
  },
  {
   "cell_type": "code",
   "execution_count": null,
   "metadata": {},
   "outputs": [],
   "source": [
    "sent_score = df_open['text'].map(SentimentIntensityAnalyzer().polarity_scores)\n",
    "sent = sent_score.map(lambda x: x['compound'])\n",
    "close_monthly_sentiment = sent.resample('M').mean()"
   ]
  },
  {
   "cell_type": "code",
   "execution_count": null,
   "metadata": {},
   "outputs": [],
   "source": [
    "plt.plot(df_open['text'].resample('M').count())\n",
    "plt.xlabel('Year')\n",
    "plt.ylabel('Sentiment of the Restaurant ')\n",
    "plt.title('Average Monthly Sentiment')\n",
    "plt.show()"
   ]
  },
  {
   "cell_type": "code",
   "execution_count": null,
   "metadata": {},
   "outputs": [],
   "source": []
  },
  {
   "cell_type": "code",
   "execution_count": null,
   "metadata": {},
   "outputs": [],
   "source": []
  },
  {
   "cell_type": "code",
   "execution_count": null,
   "metadata": {},
   "outputs": [],
   "source": []
  },
  {
   "cell_type": "code",
   "execution_count": null,
   "metadata": {},
   "outputs": [],
   "source": []
  },
  {
   "cell_type": "code",
   "execution_count": null,
   "metadata": {},
   "outputs": [],
   "source": []
  },
  {
   "cell_type": "code",
   "execution_count": null,
   "metadata": {},
   "outputs": [],
   "source": []
  }
 ],
 "metadata": {
  "kernelspec": {
   "display_name": "Python 3",
   "language": "python",
   "name": "python3"
  },
  "language_info": {
   "codemirror_mode": {
    "name": "ipython",
    "version": 3
   },
   "file_extension": ".py",
   "mimetype": "text/x-python",
   "name": "python",
   "nbconvert_exporter": "python",
   "pygments_lexer": "ipython3",
   "version": "3.7.6"
  }
 },
 "nbformat": 4,
 "nbformat_minor": 4
}
