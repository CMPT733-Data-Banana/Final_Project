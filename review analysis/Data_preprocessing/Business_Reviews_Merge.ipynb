{
 "cells": [
  {
   "cell_type": "code",
   "execution_count": null,
   "id": "e5c90f1d",
   "metadata": {},
   "outputs": [],
   "source": [
    "import pandas as pd"
   ]
  },
  {
   "cell_type": "code",
   "execution_count": null,
   "id": "16d5c7be",
   "metadata": {},
   "outputs": [],
   "source": [
    "reviews_open_df=pd.read_csv('reviews_open.csv', encoding='utf-8',error_bad_lines=False)"
   ]
  },
  {
   "cell_type": "code",
   "execution_count": null,
   "id": "900b65a5",
   "metadata": {},
   "outputs": [],
   "source": [
    "Business_bc_df = pd.read_csv(\"C:\\\\Users\\\\aneeq\\\\Downloads\\\\bc_rest.csv\")"
   ]
  },
  {
   "cell_type": "code",
   "execution_count": null,
   "id": "19190d30",
   "metadata": {},
   "outputs": [],
   "source": [
    "Business_bc_df.info()"
   ]
  },
  {
   "cell_type": "code",
   "execution_count": null,
   "id": "b63a970c",
   "metadata": {},
   "outputs": [],
   "source": [
    "reviews_open_df.info()"
   ]
  },
  {
   "cell_type": "code",
   "execution_count": null,
   "id": "3abf2234",
   "metadata": {},
   "outputs": [],
   "source": [
    "restaurants_reviews_open = pd.merge(Business_bc_df, reviews_open_df, on = 'business_id')"
   ]
  },
  {
   "cell_type": "code",
   "execution_count": null,
   "id": "cf9f0a96",
   "metadata": {},
   "outputs": [],
   "source": [
    "restaurants_reviews_open.to_csv('business_reviews_open.csv', index=False, header=True)"
   ]
  },
  {
   "cell_type": "code",
   "execution_count": null,
   "id": "744f4250",
   "metadata": {},
   "outputs": [],
   "source": [
    "reviews_closed_df=pd.read_csv('C:\\\\Users\\\\aneeq\\\\Downloads\\\\reviews_closed.csv', encoding='utf-8',error_bad_lines=False)"
   ]
  },
  {
   "cell_type": "code",
   "execution_count": null,
   "id": "43db1618",
   "metadata": {},
   "outputs": [],
   "source": [
    "restaurants_reviews_closed = pd.merge(Business_bc_df, reviews_closed_df, on = 'business_id')"
   ]
  },
  {
   "cell_type": "code",
   "execution_count": null,
   "id": "3e2e609f",
   "metadata": {},
   "outputs": [],
   "source": [
    "restaurants_reviews_closed.to_csv('business_reviews_closed.csv', index=False, header=True)"
   ]
  }
 ],
 "metadata": {
  "kernelspec": {
   "display_name": "Python 3",
   "language": "python",
   "name": "python3"
  },
  "language_info": {
   "codemirror_mode": {
    "name": "ipython",
    "version": 3
   },
   "file_extension": ".py",
   "mimetype": "text/x-python",
   "name": "python",
   "nbconvert_exporter": "python",
   "pygments_lexer": "ipython3",
   "version": "3.8.8"
  }
 },
 "nbformat": 4,
 "nbformat_minor": 5
}
