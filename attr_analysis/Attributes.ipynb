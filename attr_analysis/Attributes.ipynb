{
 "cells": [
  {
   "cell_type": "code",
   "execution_count": 1,
   "id": "eb9e00b6",
   "metadata": {},
   "outputs": [],
   "source": [
    "import pandas as pd\n",
    "import numpy as np\n",
    "import seaborn as sns\n",
    "import matplotlib.pyplot as plt"
   ]
  },
  {
   "cell_type": "code",
   "execution_count": 2,
   "id": "1adddda1",
   "metadata": {},
   "outputs": [
    {
     "name": "stderr",
     "output_type": "stream",
     "text": [
      "<ipython-input-2-2805b2782e8b>:1: FutureWarning: The error_bad_lines argument has been deprecated and will be removed in a future version. Use on_bad_lines in the future.\n",
      "\n",
      "\n",
      "  attr_df = pd.read_csv(\"C:\\\\Users\\\\aneeq\\\\Downloads\\\\business\\\\business.csv\", encoding='utf-8',error_bad_lines=False)\n",
      "<ipython-input-2-2805b2782e8b>:1: DtypeWarning: Columns (48) have mixed types. Specify dtype option on import or set low_memory=False.\n",
      "  attr_df = pd.read_csv(\"C:\\\\Users\\\\aneeq\\\\Downloads\\\\business\\\\business.csv\", encoding='utf-8',error_bad_lines=False)\n"
     ]
    }
   ],
   "source": [
    "attr_df = pd.read_csv(\"C:\\\\Users\\\\aneeq\\\\Downloads\\\\business\\\\business.csv\", encoding='utf-8',error_bad_lines=False)"
   ]
  },
  {
   "cell_type": "code",
   "execution_count": 3,
   "id": "12b074b7",
   "metadata": {},
   "outputs": [
    {
     "data": {
      "text/html": [
       "<div>\n",
       "<style scoped>\n",
       "    .dataframe tbody tr th:only-of-type {\n",
       "        vertical-align: middle;\n",
       "    }\n",
       "\n",
       "    .dataframe tbody tr th {\n",
       "        vertical-align: top;\n",
       "    }\n",
       "\n",
       "    .dataframe thead th {\n",
       "        text-align: right;\n",
       "    }\n",
       "</style>\n",
       "<table border=\"1\" class=\"dataframe\">\n",
       "  <thead>\n",
       "    <tr style=\"text-align: right;\">\n",
       "      <th></th>\n",
       "      <th>longitude</th>\n",
       "      <th>business_id</th>\n",
       "      <th>hours.Wednesday</th>\n",
       "      <th>attributes.BusinessAcceptsCreditCards</th>\n",
       "      <th>attributes.Caters</th>\n",
       "      <th>attributes.RestaurantsGoodForGroups</th>\n",
       "      <th>attributes.BusinessAcceptsBitcoin</th>\n",
       "      <th>attributes.DogsAllowed</th>\n",
       "      <th>attributes.RestaurantsTakeOut</th>\n",
       "      <th>attributes.BikeParking</th>\n",
       "      <th>...</th>\n",
       "      <th>attributes.GoodForDancing</th>\n",
       "      <th>attributes.BusinessParking</th>\n",
       "      <th>attributes.Music</th>\n",
       "      <th>hours.Friday</th>\n",
       "      <th>attributes.Corkage</th>\n",
       "      <th>is_open</th>\n",
       "      <th>attributes.NoiseLevel</th>\n",
       "      <th>attributes.BYOBCorkage</th>\n",
       "      <th>attributes.CoatCheck</th>\n",
       "      <th>attributes.Smoking</th>\n",
       "    </tr>\n",
       "  </thead>\n",
       "  <tbody>\n",
       "    <tr>\n",
       "      <th>0</th>\n",
       "      <td>-105.283348</td>\n",
       "      <td>6iYb2HFDywm3zjuRg0shjw</td>\n",
       "      <td>11:0-23:0</td>\n",
       "      <td>True</td>\n",
       "      <td>True</td>\n",
       "      <td>True</td>\n",
       "      <td>False</td>\n",
       "      <td>False</td>\n",
       "      <td>True</td>\n",
       "      <td>True</td>\n",
       "      <td>...</td>\n",
       "      <td>NaN</td>\n",
       "      <td>{'garage': False, 'street': True, 'validated':...</td>\n",
       "      <td>NaN</td>\n",
       "      <td>11:0-23:0</td>\n",
       "      <td>NaN</td>\n",
       "      <td>1</td>\n",
       "      <td>u'average'</td>\n",
       "      <td>NaN</td>\n",
       "      <td>NaN</td>\n",
       "      <td>NaN</td>\n",
       "    </tr>\n",
       "    <tr>\n",
       "      <th>1</th>\n",
       "      <td>-122.593331</td>\n",
       "      <td>tCbdrRPZA0oiIYSmHG3J0w</td>\n",
       "      <td>5:0-18:0</td>\n",
       "      <td>True</td>\n",
       "      <td>True</td>\n",
       "      <td>False</td>\n",
       "      <td>NaN</td>\n",
       "      <td>NaN</td>\n",
       "      <td>True</td>\n",
       "      <td>False</td>\n",
       "      <td>...</td>\n",
       "      <td>NaN</td>\n",
       "      <td>{'garage': True, 'street': False, 'validated':...</td>\n",
       "      <td>NaN</td>\n",
       "      <td>5:0-18:0</td>\n",
       "      <td>NaN</td>\n",
       "      <td>1</td>\n",
       "      <td>u'average'</td>\n",
       "      <td>NaN</td>\n",
       "      <td>NaN</td>\n",
       "      <td>NaN</td>\n",
       "    </tr>\n",
       "    <tr>\n",
       "      <th>2</th>\n",
       "      <td>-122.613693</td>\n",
       "      <td>bvN78flM8NLprQ1a1y5dRg</td>\n",
       "      <td>NaN</td>\n",
       "      <td>True</td>\n",
       "      <td>NaN</td>\n",
       "      <td>NaN</td>\n",
       "      <td>NaN</td>\n",
       "      <td>NaN</td>\n",
       "      <td>NaN</td>\n",
       "      <td>False</td>\n",
       "      <td>...</td>\n",
       "      <td>NaN</td>\n",
       "      <td>{'garage': False, 'street': True, 'validated':...</td>\n",
       "      <td>NaN</td>\n",
       "      <td>11:0-18:0</td>\n",
       "      <td>NaN</td>\n",
       "      <td>1</td>\n",
       "      <td>NaN</td>\n",
       "      <td>NaN</td>\n",
       "      <td>NaN</td>\n",
       "      <td>NaN</td>\n",
       "    </tr>\n",
       "    <tr>\n",
       "      <th>3</th>\n",
       "      <td>-81.295979</td>\n",
       "      <td>oaepsyvc0J17qwi8cfrOWg</td>\n",
       "      <td>NaN</td>\n",
       "      <td>True</td>\n",
       "      <td>NaN</td>\n",
       "      <td>NaN</td>\n",
       "      <td>NaN</td>\n",
       "      <td>NaN</td>\n",
       "      <td>NaN</td>\n",
       "      <td>NaN</td>\n",
       "      <td>...</td>\n",
       "      <td>NaN</td>\n",
       "      <td>NaN</td>\n",
       "      <td>NaN</td>\n",
       "      <td>NaN</td>\n",
       "      <td>NaN</td>\n",
       "      <td>1</td>\n",
       "      <td>NaN</td>\n",
       "      <td>NaN</td>\n",
       "      <td>NaN</td>\n",
       "      <td>NaN</td>\n",
       "    </tr>\n",
       "    <tr>\n",
       "      <th>4</th>\n",
       "      <td>-84.353424</td>\n",
       "      <td>PE9uqAjdw0E4-8mjGl3wVA</td>\n",
       "      <td>16:0-19:0</td>\n",
       "      <td>True</td>\n",
       "      <td>NaN</td>\n",
       "      <td>NaN</td>\n",
       "      <td>NaN</td>\n",
       "      <td>NaN</td>\n",
       "      <td>NaN</td>\n",
       "      <td>NaN</td>\n",
       "      <td>...</td>\n",
       "      <td>NaN</td>\n",
       "      <td>{'garage': False, 'street': False, 'validated'...</td>\n",
       "      <td>NaN</td>\n",
       "      <td>16:0-19:0</td>\n",
       "      <td>NaN</td>\n",
       "      <td>1</td>\n",
       "      <td>NaN</td>\n",
       "      <td>NaN</td>\n",
       "      <td>NaN</td>\n",
       "      <td>NaN</td>\n",
       "    </tr>\n",
       "  </tbody>\n",
       "</table>\n",
       "<p>5 rows × 60 columns</p>\n",
       "</div>"
      ],
      "text/plain": [
       "    longitude             business_id hours.Wednesday  \\\n",
       "0 -105.283348  6iYb2HFDywm3zjuRg0shjw       11:0-23:0   \n",
       "1 -122.593331  tCbdrRPZA0oiIYSmHG3J0w        5:0-18:0   \n",
       "2 -122.613693  bvN78flM8NLprQ1a1y5dRg             NaN   \n",
       "3  -81.295979  oaepsyvc0J17qwi8cfrOWg             NaN   \n",
       "4  -84.353424  PE9uqAjdw0E4-8mjGl3wVA       16:0-19:0   \n",
       "\n",
       "  attributes.BusinessAcceptsCreditCards attributes.Caters  \\\n",
       "0                                  True              True   \n",
       "1                                  True              True   \n",
       "2                                  True               NaN   \n",
       "3                                  True               NaN   \n",
       "4                                  True               NaN   \n",
       "\n",
       "  attributes.RestaurantsGoodForGroups attributes.BusinessAcceptsBitcoin  \\\n",
       "0                                True                             False   \n",
       "1                               False                               NaN   \n",
       "2                                 NaN                               NaN   \n",
       "3                                 NaN                               NaN   \n",
       "4                                 NaN                               NaN   \n",
       "\n",
       "  attributes.DogsAllowed attributes.RestaurantsTakeOut attributes.BikeParking  \\\n",
       "0                  False                          True                   True   \n",
       "1                    NaN                          True                  False   \n",
       "2                    NaN                           NaN                  False   \n",
       "3                    NaN                           NaN                    NaN   \n",
       "4                    NaN                           NaN                    NaN   \n",
       "\n",
       "   ... attributes.GoodForDancing  \\\n",
       "0  ...                       NaN   \n",
       "1  ...                       NaN   \n",
       "2  ...                       NaN   \n",
       "3  ...                       NaN   \n",
       "4  ...                       NaN   \n",
       "\n",
       "                          attributes.BusinessParking attributes.Music  \\\n",
       "0  {'garage': False, 'street': True, 'validated':...              NaN   \n",
       "1  {'garage': True, 'street': False, 'validated':...              NaN   \n",
       "2  {'garage': False, 'street': True, 'validated':...              NaN   \n",
       "3                                                NaN              NaN   \n",
       "4  {'garage': False, 'street': False, 'validated'...              NaN   \n",
       "\n",
       "  hours.Friday attributes.Corkage is_open attributes.NoiseLevel  \\\n",
       "0    11:0-23:0                NaN       1            u'average'   \n",
       "1     5:0-18:0                NaN       1            u'average'   \n",
       "2    11:0-18:0                NaN       1                   NaN   \n",
       "3          NaN                NaN       1                   NaN   \n",
       "4    16:0-19:0                NaN       1                   NaN   \n",
       "\n",
       "  attributes.BYOBCorkage attributes.CoatCheck attributes.Smoking  \n",
       "0                    NaN                  NaN                NaN  \n",
       "1                    NaN                  NaN                NaN  \n",
       "2                    NaN                  NaN                NaN  \n",
       "3                    NaN                  NaN                NaN  \n",
       "4                    NaN                  NaN                NaN  \n",
       "\n",
       "[5 rows x 60 columns]"
      ]
     },
     "execution_count": 3,
     "metadata": {},
     "output_type": "execute_result"
    }
   ],
   "source": [
    "attr_df.head()"
   ]
  },
  {
   "cell_type": "code",
   "execution_count": 4,
   "id": "67e8f25b",
   "metadata": {},
   "outputs": [],
   "source": [
    "attr_df_new=attr_df[attr_df['state'] == 'BC']"
   ]
  },
  {
   "cell_type": "code",
   "execution_count": 5,
   "id": "fa30a2ad",
   "metadata": {},
   "outputs": [],
   "source": [
    "attr_df_new = attr_df_new[attr_df_new.categories.str.contains('Restaurant',na=False)]"
   ]
  },
  {
   "cell_type": "code",
   "execution_count": 6,
   "id": "fb9f76bd",
   "metadata": {},
   "outputs": [],
   "source": [
    "attr =attr_df_new[attr_df_new['is_open'] == 1]"
   ]
  },
  {
   "cell_type": "code",
   "execution_count": 7,
   "id": "e1c8f43a",
   "metadata": {},
   "outputs": [
    {
     "name": "stdout",
     "output_type": "stream",
     "text": [
      "<class 'pandas.core.frame.DataFrame'>\n",
      "Int64Index: 4730 entries, 5 to 160523\n",
      "Data columns (total 60 columns):\n",
      " #   Column                                 Non-Null Count  Dtype  \n",
      "---  ------                                 --------------  -----  \n",
      " 0   longitude                              4730 non-null   float64\n",
      " 1   business_id                            4730 non-null   object \n",
      " 2   hours.Wednesday                        4064 non-null   object \n",
      " 3   attributes.BusinessAcceptsCreditCards  282 non-null    object \n",
      " 4   attributes.Caters                      2969 non-null   object \n",
      " 5   attributes.RestaurantsGoodForGroups    3699 non-null   object \n",
      " 6   attributes.BusinessAcceptsBitcoin      0 non-null      object \n",
      " 7   attributes.DogsAllowed                 875 non-null    object \n",
      " 8   attributes.RestaurantsTakeOut          4319 non-null   object \n",
      " 9   attributes.BikeParking                 3451 non-null   object \n",
      " 10  attributes.BestNights                  226 non-null    object \n",
      " 11  name                                   4730 non-null   object \n",
      " 12  attributes                             4631 non-null   object \n",
      " 13  attributes.RestaurantsAttire           3455 non-null   object \n",
      " 14  hours.Sunday                           3631 non-null   object \n",
      " 15  attributes.AcceptsInsurance            1 non-null      object \n",
      " 16  attributes.BYOB                        264 non-null    object \n",
      " 17  attributes.WheelchairAccessible        1173 non-null   object \n",
      " 18  attributes.AgesAllowed                 1 non-null      object \n",
      " 19  attributes.HasTV                       3819 non-null   object \n",
      " 20  attributes.RestaurantsReservations     3890 non-null   object \n",
      " 21  attributes.RestaurantsDelivery         4164 non-null   object \n",
      " 22  attributes.DriveThru                   264 non-null    object \n",
      " 23  attributes.HairSpecializesIn           1 non-null      object \n",
      " 24  attributes.HappyHour                   939 non-null    object \n",
      " 25  attributes.DietaryRestrictions         15 non-null     object \n",
      " 26  hours.Tuesday                          3905 non-null   object \n",
      " 27  categories                             4730 non-null   object \n",
      " 28  attributes.Ambience                    3885 non-null   object \n",
      " 29  hours.Monday                           3811 non-null   object \n",
      " 30  attributes.WiFi                        3642 non-null   object \n",
      " 31  attributes.Open24Hours                 0 non-null      object \n",
      " 32  attributes.Alcohol                     3456 non-null   object \n",
      " 33  attributes.RestaurantsCounterService   0 non-null      object \n",
      " 34  hours.Saturday                         3990 non-null   object \n",
      " 35  attributes.OutdoorSeating              3831 non-null   object \n",
      " 36  hours                                  4143 non-null   object \n",
      " 37  review_count                           4730 non-null   int64  \n",
      " 38  attributes.GoodForMeal                 3100 non-null   object \n",
      " 39  attributes.RestaurantsTableService     1941 non-null   object \n",
      " 40  city                                   4730 non-null   object \n",
      " 41  attributes.GoodForKids                 3664 non-null   object \n",
      " 42  postal_code                            4722 non-null   object \n",
      " 43  address                                4713 non-null   object \n",
      " 44  hours.Thursday                         4115 non-null   object \n",
      " 45  attributes.ByAppointmentOnly           226 non-null    object \n",
      " 46  state                                  4730 non-null   object \n",
      " 47  stars                                  4730 non-null   float64\n",
      " 48  attributes.RestaurantsPriceRange2      3832 non-null   object \n",
      " 49  latitude                               4730 non-null   float64\n",
      " 50  attributes.GoodForDancing              185 non-null    object \n",
      " 51  attributes.BusinessParking             4118 non-null   object \n",
      " 52  attributes.Music                       342 non-null    object \n",
      " 53  hours.Friday                           4129 non-null   object \n",
      " 54  attributes.Corkage                     177 non-null    object \n",
      " 55  is_open                                4730 non-null   int64  \n",
      " 56  attributes.NoiseLevel                  3145 non-null   object \n",
      " 57  attributes.BYOBCorkage                 0 non-null      object \n",
      " 58  attributes.CoatCheck                   176 non-null    object \n",
      " 59  attributes.Smoking                     172 non-null    object \n",
      "dtypes: float64(3), int64(2), object(55)\n",
      "memory usage: 2.2+ MB\n"
     ]
    }
   ],
   "source": [
    "attr.info()"
   ]
  },
  {
   "cell_type": "code",
   "execution_count": 8,
   "id": "86f16b0d",
   "metadata": {},
   "outputs": [
    {
     "data": {
      "text/plain": [
       "<Figure size 1440x720 with 0 Axes>"
      ]
     },
     "metadata": {},
     "output_type": "display_data"
    },
    {
     "data": {
      "image/png": "[encoded data removed]",
      "text/plain": [
       "<Figure size 781.25x720 with 1 Axes>"
      ]
     },
     "metadata": {
      "needs_background": "light"
     },
     "output_type": "display_data"
    }
   ],
   "source": [
    "plt.figure(figsize=(20,10))\n",
    "sns.displot(\n",
    "    data=attr.isna().melt(value_name=\"missing\"),\n",
    "    y=\"variable\",\n",
    "    hue=\"missing\",\n",
    "    multiple=\"fill\",\n",
    "    aspect=1,\n",
    "    height = 10\n",
    ")\n",
    "plt.show()"
   ]
  },
  {
   "cell_type": "code",
   "execution_count": 9,
   "id": "1e38e3ac",
   "metadata": {},
   "outputs": [
    {
     "name": "stderr",
     "output_type": "stream",
     "text": [
      "<ipython-input-9-33d9c19962e5>:1: FutureWarning: Passing a set as an indexer is deprecated and will raise in a future version. Use a list instead.\n",
      "  new_df = attr[{'attributes.RestaurantsTakeOut','attributes.RestaurantsDelivery', 'attributes.WiFi',\n"
     ]
    }
   ],
   "source": [
    "new_df = attr[{'attributes.RestaurantsTakeOut','attributes.RestaurantsDelivery', 'attributes.WiFi',\n",
    "               'attributes.GoodForKids', 'attributes.RestaurantsPriceRange2', 'business_id','postal_code',\n",
    "               'stars','categories'}]  \n",
    "\n",
    "\n",
    "\n"
   ]
  },
  {
   "cell_type": "code",
   "execution_count": 10,
   "id": "4a55ee6b",
   "metadata": {},
   "outputs": [
    {
     "name": "stdout",
     "output_type": "stream",
     "text": [
      "<class 'pandas.core.frame.DataFrame'>\n",
      "Int64Index: 4730 entries, 5 to 160523\n",
      "Data columns (total 9 columns):\n",
      " #   Column                             Non-Null Count  Dtype  \n",
      "---  ------                             --------------  -----  \n",
      " 0   attributes.WiFi                    3642 non-null   object \n",
      " 1   attributes.GoodForKids             3664 non-null   object \n",
      " 2   attributes.RestaurantsPriceRange2  3832 non-null   object \n",
      " 3   attributes.RestaurantsTakeOut      4319 non-null   object \n",
      " 4   stars                              4730 non-null   float64\n",
      " 5   attributes.RestaurantsDelivery     4164 non-null   object \n",
      " 6   categories                         4730 non-null   object \n",
      " 7   business_id                        4730 non-null   object \n",
      " 8   postal_code                        4722 non-null   object \n",
      "dtypes: float64(1), object(8)\n",
      "memory usage: 369.5+ KB\n"
     ]
    }
   ],
   "source": [
    "new_df.info()"
   ]
  },
  {
   "cell_type": "code",
   "execution_count": 11,
   "id": "b2c7f6b6",
   "metadata": {},
   "outputs": [],
   "source": [
    "new_df = new_df.replace('None',np.NAN)"
   ]
  },
  {
   "cell_type": "code",
   "execution_count": 12,
   "id": "95313867",
   "metadata": {},
   "outputs": [],
   "source": [
    "new_df = new_df.dropna()"
   ]
  },
  {
   "cell_type": "code",
   "execution_count": 13,
   "id": "d8974213",
   "metadata": {},
   "outputs": [
    {
     "name": "stdout",
     "output_type": "stream",
     "text": [
      "<class 'pandas.core.frame.DataFrame'>\n",
      "Int64Index: 3040 entries, 5 to 160523\n",
      "Data columns (total 9 columns):\n",
      " #   Column                             Non-Null Count  Dtype  \n",
      "---  ------                             --------------  -----  \n",
      " 0   attributes.WiFi                    3040 non-null   object \n",
      " 1   attributes.GoodForKids             3040 non-null   object \n",
      " 2   attributes.RestaurantsPriceRange2  3040 non-null   object \n",
      " 3   attributes.RestaurantsTakeOut      3040 non-null   object \n",
      " 4   stars                              3040 non-null   float64\n",
      " 5   attributes.RestaurantsDelivery     3040 non-null   object \n",
      " 6   categories                         3040 non-null   object \n",
      " 7   business_id                        3040 non-null   object \n",
      " 8   postal_code                        3040 non-null   object \n",
      "dtypes: float64(1), object(8)\n",
      "memory usage: 237.5+ KB\n"
     ]
    }
   ],
   "source": [
    "new_df.info()"
   ]
  },
  {
   "cell_type": "code",
   "execution_count": 14,
   "id": "01681dce",
   "metadata": {},
   "outputs": [
    {
     "data": {
      "text/plain": [
       "True     2896\n",
       "False     144\n",
       "Name: attributes.RestaurantsTakeOut, dtype: int64"
      ]
     },
     "execution_count": 14,
     "metadata": {},
     "output_type": "execute_result"
    }
   ],
   "source": [
    "new_df['attributes.RestaurantsTakeOut'].value_counts()"
   ]
  },
  {
   "cell_type": "code",
   "execution_count": 15,
   "id": "48d55dba",
   "metadata": {},
   "outputs": [
    {
     "data": {
      "text/plain": [
       "True     1597\n",
       "False    1443\n",
       "Name: attributes.RestaurantsDelivery, dtype: int64"
      ]
     },
     "execution_count": 15,
     "metadata": {},
     "output_type": "execute_result"
    }
   ],
   "source": [
    "new_df['attributes.RestaurantsDelivery'].value_counts()"
   ]
  },
  {
   "cell_type": "code",
   "execution_count": 16,
   "id": "7a6ffc6d",
   "metadata": {},
   "outputs": [
    {
     "data": {
      "text/plain": [
       "u'free'    1227\n",
       "u'no'       914\n",
       "'free'      551\n",
       "'no'        334\n",
       "u'paid'      11\n",
       "'paid'        3\n",
       "Name: attributes.WiFi, dtype: int64"
      ]
     },
     "execution_count": 16,
     "metadata": {},
     "output_type": "execute_result"
    }
   ],
   "source": [
    "new_df['attributes.WiFi'].value_counts()"
   ]
  },
  {
   "cell_type": "code",
   "execution_count": 17,
   "id": "305e17f5",
   "metadata": {},
   "outputs": [
    {
     "data": {
      "text/plain": [
       "True     2628\n",
       "False     412\n",
       "Name: attributes.GoodForKids, dtype: int64"
      ]
     },
     "execution_count": 17,
     "metadata": {},
     "output_type": "execute_result"
    }
   ],
   "source": [
    "new_df['attributes.GoodForKids'].value_counts()"
   ]
  },
  {
   "cell_type": "code",
   "execution_count": 18,
   "id": "a0acd20f",
   "metadata": {},
   "outputs": [
    {
     "data": {
      "text/plain": [
       "2      1735\n",
       "1       856\n",
       "2.0     204\n",
       "3       120\n",
       "1.0      95\n",
       "4        19\n",
       "3.0      10\n",
       "4.0       1\n",
       "Name: attributes.RestaurantsPriceRange2, dtype: int64"
      ]
     },
     "execution_count": 18,
     "metadata": {},
     "output_type": "execute_result"
    }
   ],
   "source": [
    "new_df['attributes.RestaurantsPriceRange2'].value_counts()"
   ]
  },
  {
   "cell_type": "code",
   "execution_count": 20,
   "id": "4ed1b793",
   "metadata": {},
   "outputs": [],
   "source": [
    "new_df = new_df.replace({'attributes.RestaurantsTakeOut':{True:'True', False:'False'}, 'attributes.RestaurantsDelivery':{True:'True', False:'False'}})\n"
   ]
  },
  {
   "cell_type": "code",
   "execution_count": 21,
   "id": "bf31c1f1",
   "metadata": {},
   "outputs": [],
   "source": [
    "new_df = new_df.replace({'attributes.RestaurantsPriceRange2':{1.0:'1', 2.0:'2', 3.0:'3', 4.0:'4'}})"
   ]
  },
  {
   "cell_type": "code",
   "execution_count": 22,
   "id": "6cb0f7d3",
   "metadata": {},
   "outputs": [],
   "source": [
    "new_df = new_df.replace({'attributes.WiFi':{\"u'free'\":'free', \"u'no'\":'no', \"u'paid'\":'paid',\"'free'\":'free',\"'no'\":'no',\"'paid'\":'paid'}})"
   ]
  },
  {
   "cell_type": "code",
   "execution_count": 23,
   "id": "60bfcf0e",
   "metadata": {},
   "outputs": [
    {
     "name": "stdout",
     "output_type": "stream",
     "text": [
      "<class 'pandas.core.frame.DataFrame'>\n",
      "Int64Index: 3040 entries, 5 to 160523\n",
      "Data columns (total 9 columns):\n",
      " #   Column                             Non-Null Count  Dtype  \n",
      "---  ------                             --------------  -----  \n",
      " 0   attributes.WiFi                    3040 non-null   object \n",
      " 1   attributes.GoodForKids             3040 non-null   object \n",
      " 2   attributes.RestaurantsPriceRange2  3040 non-null   object \n",
      " 3   attributes.RestaurantsTakeOut      3040 non-null   object \n",
      " 4   stars                              3040 non-null   float64\n",
      " 5   attributes.RestaurantsDelivery     3040 non-null   object \n",
      " 6   categories                         3040 non-null   object \n",
      " 7   business_id                        3040 non-null   object \n",
      " 8   postal_code                        3040 non-null   object \n",
      "dtypes: float64(1), object(8)\n",
      "memory usage: 237.5+ KB\n"
     ]
    }
   ],
   "source": [
    "new_df.info()"
   ]
  },
  {
   "cell_type": "code",
   "execution_count": 31,
   "id": "c3d5688f",
   "metadata": {},
   "outputs": [],
   "source": [
    "wifi_df = new_df.groupby(['attributes.WiFi']).count().reset_index()"
   ]
  },
  {
   "cell_type": "code",
   "execution_count": 33,
   "id": "0d2b2978",
   "metadata": {},
   "outputs": [
    {
     "data": {
      "image/png": "[encoded data removed]",
      "text/plain": [
       "<Figure size 1080x288 with 1 Axes>"
      ]
     },
     "metadata": {
      "needs_background": "light"
     },
     "output_type": "display_data"
    }
   ],
   "source": [
    "wifi_df.plot(kind = 'bar', x = 'attributes.WiFi', y = 'business_id', figsize=(15,4))\n",
    "plt.title('WiFi vs Rating Correlation')\n",
    "plt.xlabel('WiFi')\n",
    "plt.ylabel('# of Rating')\n",
    "plt.show()"
   ]
  },
  {
   "cell_type": "code",
   "execution_count": 35,
   "id": "2abee032",
   "metadata": {},
   "outputs": [
    {
     "data": {
      "text/plain": [
       "[Text(0.5, 1.0, 'WiFi vs Business Correlation')]"
      ]
     },
     "execution_count": 35,
     "metadata": {},
     "output_type": "execute_result"
    },
    {
     "data": {
      "image/png": "[encoded data removed]",
      "text/plain": [
       "<Figure size 720x360 with 1 Axes>"
      ]
     },
     "metadata": {},
     "output_type": "display_data"
    }
   ],
   "source": [
    "sns.set(rc={'figure.figsize':(10,5)})\n",
    "sns.set_style(\"whitegrid\")\n",
    "ax = sns.lineplot(data= wifi_df, x='attributes.WiFi', y='business_id', marker='o', color='Orange')\n",
    "ax.set(title='WiFi vs Business Correlation')\n",
    "\n",
    "\n",
    "#sns.lineplot(data=wifi_df, x='attributes.WiFi', y='business_id', marker='o')"
   ]
  },
  {
   "cell_type": "code",
   "execution_count": 41,
   "id": "9d9d3b10",
   "metadata": {},
   "outputs": [
    {
     "data": {
      "text/html": [
       "<div>\n",
       "<style scoped>\n",
       "    .dataframe tbody tr th:only-of-type {\n",
       "        vertical-align: middle;\n",
       "    }\n",
       "\n",
       "    .dataframe tbody tr th {\n",
       "        vertical-align: top;\n",
       "    }\n",
       "\n",
       "    .dataframe thead th {\n",
       "        text-align: right;\n",
       "    }\n",
       "</style>\n",
       "<table border=\"1\" class=\"dataframe\">\n",
       "  <thead>\n",
       "    <tr style=\"text-align: right;\">\n",
       "      <th></th>\n",
       "      <th>attributes.RestaurantsPriceRange2</th>\n",
       "      <th>attributes.WiFi</th>\n",
       "      <th>stars</th>\n",
       "    </tr>\n",
       "  </thead>\n",
       "  <tbody>\n",
       "    <tr>\n",
       "      <th>0</th>\n",
       "      <td>1</td>\n",
       "      <td>free</td>\n",
       "      <td>3.343629</td>\n",
       "    </tr>\n",
       "    <tr>\n",
       "      <th>1</th>\n",
       "      <td>1</td>\n",
       "      <td>no</td>\n",
       "      <td>3.445221</td>\n",
       "    </tr>\n",
       "    <tr>\n",
       "      <th>2</th>\n",
       "      <td>1</td>\n",
       "      <td>paid</td>\n",
       "      <td>3.375000</td>\n",
       "    </tr>\n",
       "    <tr>\n",
       "      <th>3</th>\n",
       "      <td>2</td>\n",
       "      <td>free</td>\n",
       "      <td>3.507271</td>\n",
       "    </tr>\n",
       "    <tr>\n",
       "      <th>4</th>\n",
       "      <td>2</td>\n",
       "      <td>no</td>\n",
       "      <td>3.475658</td>\n",
       "    </tr>\n",
       "  </tbody>\n",
       "</table>\n",
       "</div>"
      ],
      "text/plain": [
       "  attributes.RestaurantsPriceRange2 attributes.WiFi     stars\n",
       "0                                 1            free  3.343629\n",
       "1                                 1              no  3.445221\n",
       "2                                 1            paid  3.375000\n",
       "3                                 2            free  3.507271\n",
       "4                                 2              no  3.475658"
      ]
     },
     "execution_count": 41,
     "metadata": {},
     "output_type": "execute_result"
    }
   ],
   "source": [
    "price_df = new_df.groupby(['attributes.RestaurantsPriceRange2','attributes.WiFi']).mean().reset_index()\n",
    "price_df.head(5)"
   ]
  },
  {
   "cell_type": "code",
   "execution_count": 42,
   "id": "c99c063b",
   "metadata": {},
   "outputs": [
    {
     "data": {
      "image/png": "[encoded data removed]",
      "text/plain": [
       "<Figure size 1080x504 with 1 Axes>"
      ]
     },
     "metadata": {},
     "output_type": "display_data"
    }
   ],
   "source": [
    "f, ax = plt.subplots(figsize=(15, 7))\n",
    "ax = sns.barplot(x = 'attributes.RestaurantsPriceRange2', y = 'stars', hue = 'attributes.WiFi', \n",
    "                 data = price_df, palette = 'GnBu_d').set(title='Price Range / WiFi features vs Avg Star Ratings')\n",
    "plt.xlabel(\"Price Range of Restaurants\")\n",
    "plt.ylabel(\"Average Rating\")\n",
    "plt.ylim([0, 6]);\n"
   ]
  },
  {
   "cell_type": "code",
   "execution_count": 43,
   "id": "e88dfeec",
   "metadata": {},
   "outputs": [
    {
     "data": {
      "text/html": [
       "<div>\n",
       "<style scoped>\n",
       "    .dataframe tbody tr th:only-of-type {\n",
       "        vertical-align: middle;\n",
       "    }\n",
       "\n",
       "    .dataframe tbody tr th {\n",
       "        vertical-align: top;\n",
       "    }\n",
       "\n",
       "    .dataframe thead th {\n",
       "        text-align: right;\n",
       "    }\n",
       "</style>\n",
       "<table border=\"1\" class=\"dataframe\">\n",
       "  <thead>\n",
       "    <tr style=\"text-align: right;\">\n",
       "      <th></th>\n",
       "      <th>attributes.RestaurantsTakeOut</th>\n",
       "      <th>attributes.RestaurantsDelivery</th>\n",
       "      <th>stars</th>\n",
       "    </tr>\n",
       "  </thead>\n",
       "  <tbody>\n",
       "    <tr>\n",
       "      <th>0</th>\n",
       "      <td>False</td>\n",
       "      <td>False</td>\n",
       "      <td>3.557971</td>\n",
       "    </tr>\n",
       "    <tr>\n",
       "      <th>1</th>\n",
       "      <td>False</td>\n",
       "      <td>True</td>\n",
       "      <td>3.583333</td>\n",
       "    </tr>\n",
       "    <tr>\n",
       "      <th>2</th>\n",
       "      <td>True</td>\n",
       "      <td>False</td>\n",
       "      <td>3.481609</td>\n",
       "    </tr>\n",
       "    <tr>\n",
       "      <th>3</th>\n",
       "      <td>True</td>\n",
       "      <td>True</td>\n",
       "      <td>3.451917</td>\n",
       "    </tr>\n",
       "  </tbody>\n",
       "</table>\n",
       "</div>"
      ],
      "text/plain": [
       "  attributes.RestaurantsTakeOut attributes.RestaurantsDelivery     stars\n",
       "0                         False                          False  3.557971\n",
       "1                         False                           True  3.583333\n",
       "2                          True                          False  3.481609\n",
       "3                          True                           True  3.451917"
      ]
     },
     "execution_count": 43,
     "metadata": {},
     "output_type": "execute_result"
    }
   ],
   "source": [
    "takeout_df = new_df.groupby(['attributes.RestaurantsTakeOut','attributes.RestaurantsDelivery']).mean().reset_index()\n",
    "takeout_df.head(25)"
   ]
  },
  {
   "cell_type": "code",
   "execution_count": 44,
   "id": "f07afb39",
   "metadata": {},
   "outputs": [
    {
     "data": {
      "text/html": [
       "<div>\n",
       "<style scoped>\n",
       "    .dataframe tbody tr th:only-of-type {\n",
       "        vertical-align: middle;\n",
       "    }\n",
       "\n",
       "    .dataframe tbody tr th {\n",
       "        vertical-align: top;\n",
       "    }\n",
       "\n",
       "    .dataframe thead th {\n",
       "        text-align: right;\n",
       "    }\n",
       "</style>\n",
       "<table border=\"1\" class=\"dataframe\">\n",
       "  <thead>\n",
       "    <tr style=\"text-align: right;\">\n",
       "      <th></th>\n",
       "      <th>attributes.RestaurantsTakeOut</th>\n",
       "      <th>attributes.RestaurantsDelivery</th>\n",
       "      <th>attributes.WiFi</th>\n",
       "      <th>attributes.GoodForKids</th>\n",
       "      <th>attributes.RestaurantsPriceRange2</th>\n",
       "      <th>stars</th>\n",
       "      <th>categories</th>\n",
       "      <th>business_id</th>\n",
       "      <th>postal_code</th>\n",
       "    </tr>\n",
       "  </thead>\n",
       "  <tbody>\n",
       "    <tr>\n",
       "      <th>0</th>\n",
       "      <td>False</td>\n",
       "      <td>False</td>\n",
       "      <td>138</td>\n",
       "      <td>138</td>\n",
       "      <td>138</td>\n",
       "      <td>138</td>\n",
       "      <td>138</td>\n",
       "      <td>138</td>\n",
       "      <td>138</td>\n",
       "    </tr>\n",
       "    <tr>\n",
       "      <th>1</th>\n",
       "      <td>False</td>\n",
       "      <td>True</td>\n",
       "      <td>6</td>\n",
       "      <td>6</td>\n",
       "      <td>6</td>\n",
       "      <td>6</td>\n",
       "      <td>6</td>\n",
       "      <td>6</td>\n",
       "      <td>6</td>\n",
       "    </tr>\n",
       "    <tr>\n",
       "      <th>2</th>\n",
       "      <td>True</td>\n",
       "      <td>False</td>\n",
       "      <td>1305</td>\n",
       "      <td>1305</td>\n",
       "      <td>1305</td>\n",
       "      <td>1305</td>\n",
       "      <td>1305</td>\n",
       "      <td>1305</td>\n",
       "      <td>1305</td>\n",
       "    </tr>\n",
       "    <tr>\n",
       "      <th>3</th>\n",
       "      <td>True</td>\n",
       "      <td>True</td>\n",
       "      <td>1591</td>\n",
       "      <td>1591</td>\n",
       "      <td>1591</td>\n",
       "      <td>1591</td>\n",
       "      <td>1591</td>\n",
       "      <td>1591</td>\n",
       "      <td>1591</td>\n",
       "    </tr>\n",
       "  </tbody>\n",
       "</table>\n",
       "</div>"
      ],
      "text/plain": [
       "  attributes.RestaurantsTakeOut attributes.RestaurantsDelivery  \\\n",
       "0                         False                          False   \n",
       "1                         False                           True   \n",
       "2                          True                          False   \n",
       "3                          True                           True   \n",
       "\n",
       "   attributes.WiFi  attributes.GoodForKids  attributes.RestaurantsPriceRange2  \\\n",
       "0              138                     138                                138   \n",
       "1                6                       6                                  6   \n",
       "2             1305                    1305                               1305   \n",
       "3             1591                    1591                               1591   \n",
       "\n",
       "   stars  categories  business_id  postal_code  \n",
       "0    138         138          138          138  \n",
       "1      6           6            6            6  \n",
       "2   1305        1305         1305         1305  \n",
       "3   1591        1591         1591         1591  "
      ]
     },
     "execution_count": 44,
     "metadata": {},
     "output_type": "execute_result"
    }
   ],
   "source": [
    "takeout_df_count = new_df.groupby(['attributes.RestaurantsTakeOut','attributes.RestaurantsDelivery']).count().reset_index()\n",
    "takeout_df_count.head(25)"
   ]
  },
  {
   "cell_type": "code",
   "execution_count": 45,
   "id": "63ba4a3e",
   "metadata": {},
   "outputs": [
    {
     "data": {
      "image/png": "[encoded data removed]",
      "text/plain": [
       "<Figure size 720x504 with 1 Axes>"
      ]
     },
     "metadata": {},
     "output_type": "display_data"
    }
   ],
   "source": [
    "f, ax = plt.subplots(figsize=(10, 7))\n",
    "ax = sns.barplot(x = 'attributes.RestaurantsTakeOut', y = 'stars', hue = 'attributes.RestaurantsDelivery', \n",
    "                 data = takeout_df, palette = 'YlOrBr').set(title='Restaurants Takeout/Restaurants Delivery vs Avg Star Ratings')\n",
    "plt.xlabel(\"Restaurants Takeout\")\n",
    "plt.ylabel(\"Average Rating\")\n",
    "plt.ylim([0, 5])\n",
    "plt.legend(title='Restaurants Delivery');"
   ]
  },
  {
   "cell_type": "code",
   "execution_count": 48,
   "id": "9cd7f9ac",
   "metadata": {},
   "outputs": [],
   "source": [
    "new_df.to_csv('attributes.csv', index=False, header=True)"
   ]
  },
  {
   "cell_type": "code",
   "execution_count": 49,
   "id": "afd40573",
   "metadata": {},
   "outputs": [
    {
     "data": {
      "text/html": [
       "<div>\n",
       "<style scoped>\n",
       "    .dataframe tbody tr th:only-of-type {\n",
       "        vertical-align: middle;\n",
       "    }\n",
       "\n",
       "    .dataframe tbody tr th {\n",
       "        vertical-align: top;\n",
       "    }\n",
       "\n",
       "    .dataframe thead th {\n",
       "        text-align: right;\n",
       "    }\n",
       "</style>\n",
       "<table border=\"1\" class=\"dataframe\">\n",
       "  <thead>\n",
       "    <tr style=\"text-align: right;\">\n",
       "      <th></th>\n",
       "      <th>attributes.RestaurantsPriceRange2</th>\n",
       "      <th>attributes.WiFi</th>\n",
       "      <th>attributes.GoodForKids</th>\n",
       "      <th>attributes.RestaurantsTakeOut</th>\n",
       "      <th>stars</th>\n",
       "      <th>attributes.RestaurantsDelivery</th>\n",
       "      <th>categories</th>\n",
       "      <th>business_id</th>\n",
       "      <th>postal_code</th>\n",
       "    </tr>\n",
       "  </thead>\n",
       "  <tbody>\n",
       "    <tr>\n",
       "      <th>0</th>\n",
       "      <td>1</td>\n",
       "      <td>free</td>\n",
       "      <td>518</td>\n",
       "      <td>518</td>\n",
       "      <td>518</td>\n",
       "      <td>518</td>\n",
       "      <td>518</td>\n",
       "      <td>518</td>\n",
       "      <td>518</td>\n",
       "    </tr>\n",
       "    <tr>\n",
       "      <th>1</th>\n",
       "      <td>1</td>\n",
       "      <td>no</td>\n",
       "      <td>429</td>\n",
       "      <td>429</td>\n",
       "      <td>429</td>\n",
       "      <td>429</td>\n",
       "      <td>429</td>\n",
       "      <td>429</td>\n",
       "      <td>429</td>\n",
       "    </tr>\n",
       "    <tr>\n",
       "      <th>2</th>\n",
       "      <td>1</td>\n",
       "      <td>paid</td>\n",
       "      <td>4</td>\n",
       "      <td>4</td>\n",
       "      <td>4</td>\n",
       "      <td>4</td>\n",
       "      <td>4</td>\n",
       "      <td>4</td>\n",
       "      <td>4</td>\n",
       "    </tr>\n",
       "    <tr>\n",
       "      <th>3</th>\n",
       "      <td>2</td>\n",
       "      <td>free</td>\n",
       "      <td>1169</td>\n",
       "      <td>1169</td>\n",
       "      <td>1169</td>\n",
       "      <td>1169</td>\n",
       "      <td>1169</td>\n",
       "      <td>1169</td>\n",
       "      <td>1169</td>\n",
       "    </tr>\n",
       "    <tr>\n",
       "      <th>4</th>\n",
       "      <td>2</td>\n",
       "      <td>no</td>\n",
       "      <td>760</td>\n",
       "      <td>760</td>\n",
       "      <td>760</td>\n",
       "      <td>760</td>\n",
       "      <td>760</td>\n",
       "      <td>760</td>\n",
       "      <td>760</td>\n",
       "    </tr>\n",
       "    <tr>\n",
       "      <th>5</th>\n",
       "      <td>2</td>\n",
       "      <td>paid</td>\n",
       "      <td>10</td>\n",
       "      <td>10</td>\n",
       "      <td>10</td>\n",
       "      <td>10</td>\n",
       "      <td>10</td>\n",
       "      <td>10</td>\n",
       "      <td>10</td>\n",
       "    </tr>\n",
       "    <tr>\n",
       "      <th>6</th>\n",
       "      <td>3</td>\n",
       "      <td>free</td>\n",
       "      <td>83</td>\n",
       "      <td>83</td>\n",
       "      <td>83</td>\n",
       "      <td>83</td>\n",
       "      <td>83</td>\n",
       "      <td>83</td>\n",
       "      <td>83</td>\n",
       "    </tr>\n",
       "    <tr>\n",
       "      <th>7</th>\n",
       "      <td>3</td>\n",
       "      <td>no</td>\n",
       "      <td>47</td>\n",
       "      <td>47</td>\n",
       "      <td>47</td>\n",
       "      <td>47</td>\n",
       "      <td>47</td>\n",
       "      <td>47</td>\n",
       "      <td>47</td>\n",
       "    </tr>\n",
       "    <tr>\n",
       "      <th>8</th>\n",
       "      <td>4</td>\n",
       "      <td>free</td>\n",
       "      <td>8</td>\n",
       "      <td>8</td>\n",
       "      <td>8</td>\n",
       "      <td>8</td>\n",
       "      <td>8</td>\n",
       "      <td>8</td>\n",
       "      <td>8</td>\n",
       "    </tr>\n",
       "    <tr>\n",
       "      <th>9</th>\n",
       "      <td>4</td>\n",
       "      <td>no</td>\n",
       "      <td>12</td>\n",
       "      <td>12</td>\n",
       "      <td>12</td>\n",
       "      <td>12</td>\n",
       "      <td>12</td>\n",
       "      <td>12</td>\n",
       "      <td>12</td>\n",
       "    </tr>\n",
       "  </tbody>\n",
       "</table>\n",
       "</div>"
      ],
      "text/plain": [
       "  attributes.RestaurantsPriceRange2 attributes.WiFi  attributes.GoodForKids  \\\n",
       "0                                 1            free                     518   \n",
       "1                                 1              no                     429   \n",
       "2                                 1            paid                       4   \n",
       "3                                 2            free                    1169   \n",
       "4                                 2              no                     760   \n",
       "5                                 2            paid                      10   \n",
       "6                                 3            free                      83   \n",
       "7                                 3              no                      47   \n",
       "8                                 4            free                       8   \n",
       "9                                 4              no                      12   \n",
       "\n",
       "   attributes.RestaurantsTakeOut  stars  attributes.RestaurantsDelivery  \\\n",
       "0                            518    518                             518   \n",
       "1                            429    429                             429   \n",
       "2                              4      4                               4   \n",
       "3                           1169   1169                            1169   \n",
       "4                            760    760                             760   \n",
       "5                             10     10                              10   \n",
       "6                             83     83                              83   \n",
       "7                             47     47                              47   \n",
       "8                              8      8                               8   \n",
       "9                             12     12                              12   \n",
       "\n",
       "   categories  business_id  postal_code  \n",
       "0         518          518          518  \n",
       "1         429          429          429  \n",
       "2           4            4            4  \n",
       "3        1169         1169         1169  \n",
       "4         760          760          760  \n",
       "5          10           10           10  \n",
       "6          83           83           83  \n",
       "7          47           47           47  \n",
       "8           8            8            8  \n",
       "9          12           12           12  "
      ]
     },
     "execution_count": 49,
     "metadata": {},
     "output_type": "execute_result"
    }
   ],
   "source": [
    "price_df_c = new_df.groupby(['attributes.RestaurantsPriceRange2','attributes.WiFi']).count().reset_index()\n",
    "price_df_c.head(25)"
   ]
  },
  {
   "cell_type": "code",
   "execution_count": 51,
   "id": "272d351d",
   "metadata": {},
   "outputs": [
    {
     "data": {
      "image/png": "[encoded data removed]",
      "text/plain": [
       "<Figure size 1080x504 with 1 Axes>"
      ]
     },
     "metadata": {},
     "output_type": "display_data"
    }
   ],
   "source": [
    "f, ax = plt.subplots(figsize=(15, 7))\n",
    "ax = sns.barplot(x = 'attributes.RestaurantsPriceRange2', y = 'business_id', hue = 'attributes.WiFi', \n",
    "                 data = price_df_c, palette = 'GnBu_d').set(title='Price Range / WiFi features vs # of Business')\n",
    "plt.xlabel(\"Price Range of Restaurants\")\n",
    "plt.ylabel(\"# of Business\")\n",
    "plt.ylim([0, 1200]);"
   ]
  },
  {
   "cell_type": "code",
   "execution_count": 52,
   "id": "af4671c0",
   "metadata": {},
   "outputs": [
    {
     "data": {
      "text/html": [
       "<div>\n",
       "<style scoped>\n",
       "    .dataframe tbody tr th:only-of-type {\n",
       "        vertical-align: middle;\n",
       "    }\n",
       "\n",
       "    .dataframe tbody tr th {\n",
       "        vertical-align: top;\n",
       "    }\n",
       "\n",
       "    .dataframe thead th {\n",
       "        text-align: right;\n",
       "    }\n",
       "</style>\n",
       "<table border=\"1\" class=\"dataframe\">\n",
       "  <thead>\n",
       "    <tr style=\"text-align: right;\">\n",
       "      <th></th>\n",
       "      <th>stars</th>\n",
       "      <th>attributes.RestaurantsPriceRange2</th>\n",
       "      <th>attributes.WiFi</th>\n",
       "      <th>attributes.GoodForKids</th>\n",
       "      <th>attributes.RestaurantsTakeOut</th>\n",
       "      <th>attributes.RestaurantsDelivery</th>\n",
       "      <th>categories</th>\n",
       "      <th>business_id</th>\n",
       "      <th>postal_code</th>\n",
       "    </tr>\n",
       "  </thead>\n",
       "  <tbody>\n",
       "    <tr>\n",
       "      <th>0</th>\n",
       "      <td>1.0</td>\n",
       "      <td>1</td>\n",
       "      <td>1</td>\n",
       "      <td>1</td>\n",
       "      <td>1</td>\n",
       "      <td>1</td>\n",
       "      <td>1</td>\n",
       "      <td>1</td>\n",
       "      <td>1</td>\n",
       "    </tr>\n",
       "    <tr>\n",
       "      <th>1</th>\n",
       "      <td>1.0</td>\n",
       "      <td>2</td>\n",
       "      <td>2</td>\n",
       "      <td>2</td>\n",
       "      <td>2</td>\n",
       "      <td>2</td>\n",
       "      <td>2</td>\n",
       "      <td>2</td>\n",
       "      <td>2</td>\n",
       "    </tr>\n",
       "    <tr>\n",
       "      <th>2</th>\n",
       "      <td>1.5</td>\n",
       "      <td>1</td>\n",
       "      <td>20</td>\n",
       "      <td>20</td>\n",
       "      <td>20</td>\n",
       "      <td>20</td>\n",
       "      <td>20</td>\n",
       "      <td>20</td>\n",
       "      <td>20</td>\n",
       "    </tr>\n",
       "    <tr>\n",
       "      <th>3</th>\n",
       "      <td>1.5</td>\n",
       "      <td>2</td>\n",
       "      <td>12</td>\n",
       "      <td>12</td>\n",
       "      <td>12</td>\n",
       "      <td>12</td>\n",
       "      <td>12</td>\n",
       "      <td>12</td>\n",
       "      <td>12</td>\n",
       "    </tr>\n",
       "    <tr>\n",
       "      <th>4</th>\n",
       "      <td>1.5</td>\n",
       "      <td>4</td>\n",
       "      <td>1</td>\n",
       "      <td>1</td>\n",
       "      <td>1</td>\n",
       "      <td>1</td>\n",
       "      <td>1</td>\n",
       "      <td>1</td>\n",
       "      <td>1</td>\n",
       "    </tr>\n",
       "    <tr>\n",
       "      <th>5</th>\n",
       "      <td>2.0</td>\n",
       "      <td>1</td>\n",
       "      <td>52</td>\n",
       "      <td>52</td>\n",
       "      <td>52</td>\n",
       "      <td>52</td>\n",
       "      <td>52</td>\n",
       "      <td>52</td>\n",
       "      <td>52</td>\n",
       "    </tr>\n",
       "    <tr>\n",
       "      <th>6</th>\n",
       "      <td>2.0</td>\n",
       "      <td>2</td>\n",
       "      <td>30</td>\n",
       "      <td>30</td>\n",
       "      <td>30</td>\n",
       "      <td>30</td>\n",
       "      <td>30</td>\n",
       "      <td>30</td>\n",
       "      <td>30</td>\n",
       "    </tr>\n",
       "    <tr>\n",
       "      <th>7</th>\n",
       "      <td>2.5</td>\n",
       "      <td>1</td>\n",
       "      <td>122</td>\n",
       "      <td>122</td>\n",
       "      <td>122</td>\n",
       "      <td>122</td>\n",
       "      <td>122</td>\n",
       "      <td>122</td>\n",
       "      <td>122</td>\n",
       "    </tr>\n",
       "    <tr>\n",
       "      <th>8</th>\n",
       "      <td>2.5</td>\n",
       "      <td>2</td>\n",
       "      <td>134</td>\n",
       "      <td>134</td>\n",
       "      <td>134</td>\n",
       "      <td>134</td>\n",
       "      <td>134</td>\n",
       "      <td>134</td>\n",
       "      <td>134</td>\n",
       "    </tr>\n",
       "    <tr>\n",
       "      <th>9</th>\n",
       "      <td>2.5</td>\n",
       "      <td>3</td>\n",
       "      <td>5</td>\n",
       "      <td>5</td>\n",
       "      <td>5</td>\n",
       "      <td>5</td>\n",
       "      <td>5</td>\n",
       "      <td>5</td>\n",
       "      <td>5</td>\n",
       "    </tr>\n",
       "  </tbody>\n",
       "</table>\n",
       "</div>"
      ],
      "text/plain": [
       "   stars attributes.RestaurantsPriceRange2  attributes.WiFi  \\\n",
       "0    1.0                                 1                1   \n",
       "1    1.0                                 2                2   \n",
       "2    1.5                                 1               20   \n",
       "3    1.5                                 2               12   \n",
       "4    1.5                                 4                1   \n",
       "5    2.0                                 1               52   \n",
       "6    2.0                                 2               30   \n",
       "7    2.5                                 1              122   \n",
       "8    2.5                                 2              134   \n",
       "9    2.5                                 3                5   \n",
       "\n",
       "   attributes.GoodForKids  attributes.RestaurantsTakeOut  \\\n",
       "0                       1                              1   \n",
       "1                       2                              2   \n",
       "2                      20                             20   \n",
       "3                      12                             12   \n",
       "4                       1                              1   \n",
       "5                      52                             52   \n",
       "6                      30                             30   \n",
       "7                     122                            122   \n",
       "8                     134                            134   \n",
       "9                       5                              5   \n",
       "\n",
       "   attributes.RestaurantsDelivery  categories  business_id  postal_code  \n",
       "0                               1           1            1            1  \n",
       "1                               2           2            2            2  \n",
       "2                              20          20           20           20  \n",
       "3                              12          12           12           12  \n",
       "4                               1           1            1            1  \n",
       "5                              52          52           52           52  \n",
       "6                              30          30           30           30  \n",
       "7                             122         122          122          122  \n",
       "8                             134         134          134          134  \n",
       "9                               5           5            5            5  "
      ]
     },
     "execution_count": 52,
     "metadata": {},
     "output_type": "execute_result"
    }
   ],
   "source": [
    "stars_df = new_df.groupby(['stars','attributes.RestaurantsPriceRange2']).count().reset_index()\n",
    "stars_df.head(10)"
   ]
  },
  {
   "cell_type": "code",
   "execution_count": 54,
   "id": "23646d27",
   "metadata": {},
   "outputs": [
    {
     "data": {
      "image/png": "[encoded data removed]",
      "text/plain": [
       "<Figure size 1080x504 with 1 Axes>"
      ]
     },
     "metadata": {},
     "output_type": "display_data"
    }
   ],
   "source": [
    "f, ax = plt.subplots(figsize=(15, 7))\n",
    "ax = sns.barplot(x = 'stars', y = 'business_id', hue = 'attributes.RestaurantsPriceRange2', \n",
    "                 data = stars_df, palette = 'GnBu_d').set(title='Ratings/Price Range vs # of Business')\n",
    "plt.xlabel(\"stars\")\n",
    "plt.ylabel(\"# of Business\")\n",
    "plt.ylim([0, 700]);"
   ]
  }
 ],
 "metadata": {
  "kernelspec": {
   "display_name": "Python 3",
   "language": "python",
   "name": "python3"
  },
  "language_info": {
   "codemirror_mode": {
    "name": "ipython",
    "version": 3
   },
   "file_extension": ".py",
   "mimetype": "text/x-python",
   "name": "python",
   "nbconvert_exporter": "python",
   "pygments_lexer": "ipython3",
   "version": "3.8.8"
  }
 },
 "nbformat": 4,
 "nbformat_minor": 5
}
