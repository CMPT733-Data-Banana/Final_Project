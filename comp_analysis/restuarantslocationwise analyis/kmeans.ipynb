{
 "cells": [
  {
   "cell_type": "code",
   "execution_count": 1,
   "id": "cb197a77",
   "metadata": {},
   "outputs": [],
   "source": [
    "#K-MEANS CLUSTERING To indentify\n",
    "#https://www.scikit-yb.org/en/latest/api/cluster/elbow.html\n",
    "#https://www.analyticsvidhya.com/blog/2021/01/in-depth-intuition-of-k-means-clustering-algorithm-in-machine-learning/"
   ]
  },
  {
   "cell_type": "code",
   "execution_count": 24,
   "id": "57b8f443",
   "metadata": {},
   "outputs": [],
   "source": [
    "import pandas as pd\n",
    "from sklearn.cluster import KMeans\n",
    "import matplotlib.pyplot as plt\n",
    "import numpy as np\n",
    "import folium"
   ]
  },
  {
   "cell_type": "code",
   "execution_count": 25,
   "id": "636f65d3",
   "metadata": {},
   "outputs": [],
   "source": [
    "df_1 = pd.read_csv('bc_rest_open.csv')"
   ]
  },
  {
   "cell_type": "code",
   "execution_count": 26,
   "id": "ab106248",
   "metadata": {},
   "outputs": [],
   "source": [
    "rests = df_1[['business_id', 'latitude', 'longitude', 'name', 'stars', 'city']]"
   ]
  },
  {
   "cell_type": "code",
   "execution_count": 27,
   "id": "77b38838",
   "metadata": {},
   "outputs": [],
   "source": [
    "new_rest = rests[['latitude', 'longitude']]"
   ]
  },
  {
   "cell_type": "code",
   "execution_count": 28,
   "id": "877f2c9d",
   "metadata": {},
   "outputs": [],
   "source": [
    "X = np.array(new_rest.loc[:,['latitude','longitude']])    \\\n",
    "                        .reshape(-1, 2)"
   ]
  },
  {
   "cell_type": "code",
   "execution_count": 29,
   "id": "4e5e6487",
   "metadata": {},
   "outputs": [
    {
     "data": {
      "text/html": [
       "<div>\n",
       "<style scoped>\n",
       "    .dataframe tbody tr th:only-of-type {\n",
       "        vertical-align: middle;\n",
       "    }\n",
       "\n",
       "    .dataframe tbody tr th {\n",
       "        vertical-align: top;\n",
       "    }\n",
       "\n",
       "    .dataframe thead th {\n",
       "        text-align: right;\n",
       "    }\n",
       "</style>\n",
       "<table border=\"1\" class=\"dataframe\">\n",
       "  <thead>\n",
       "    <tr style=\"text-align: right;\">\n",
       "      <th></th>\n",
       "      <th>stars</th>\n",
       "      <th>Count</th>\n",
       "    </tr>\n",
       "  </thead>\n",
       "  <tbody>\n",
       "    <tr>\n",
       "      <th>0</th>\n",
       "      <td>3.5</td>\n",
       "      <td>1336</td>\n",
       "    </tr>\n",
       "    <tr>\n",
       "      <th>1</th>\n",
       "      <td>4.0</td>\n",
       "      <td>1265</td>\n",
       "    </tr>\n",
       "    <tr>\n",
       "      <th>2</th>\n",
       "      <td>3.0</td>\n",
       "      <td>881</td>\n",
       "    </tr>\n",
       "    <tr>\n",
       "      <th>3</th>\n",
       "      <td>4.5</td>\n",
       "      <td>486</td>\n",
       "    </tr>\n",
       "    <tr>\n",
       "      <th>4</th>\n",
       "      <td>2.5</td>\n",
       "      <td>422</td>\n",
       "    </tr>\n",
       "  </tbody>\n",
       "</table>\n",
       "</div>"
      ],
      "text/plain": [
       "   stars  Count\n",
       "0    3.5   1336\n",
       "1    4.0   1265\n",
       "2    3.0    881\n",
       "3    4.5    486\n",
       "4    2.5    422"
      ]
     },
     "execution_count": 29,
     "metadata": {},
     "output_type": "execute_result"
    }
   ],
   "source": [
    "number_of_occurences = pd.DataFrame(rests['stars'].value_counts())\n",
    "number_of_occurences.reset_index(inplace=True)\n",
    "number_of_occurences.columns = ['stars', 'Count']\n",
    "number_of_occurences.head()"
   ]
  },
  {
   "cell_type": "code",
   "execution_count": 30,
   "id": "a07c3c2d",
   "metadata": {
    "scrolled": true
   },
   "outputs": [
    {
     "data": {
      "text/html": [
       "<div>\n",
       "<style scoped>\n",
       "    .dataframe tbody tr th:only-of-type {\n",
       "        vertical-align: middle;\n",
       "    }\n",
       "\n",
       "    .dataframe tbody tr th {\n",
       "        vertical-align: top;\n",
       "    }\n",
       "\n",
       "    .dataframe thead th {\n",
       "        text-align: right;\n",
       "    }\n",
       "</style>\n",
       "<table border=\"1\" class=\"dataframe\">\n",
       "  <thead>\n",
       "    <tr style=\"text-align: right;\">\n",
       "      <th></th>\n",
       "      <th>stars</th>\n",
       "      <th>Count</th>\n",
       "      <th>business_id</th>\n",
       "      <th>latitude</th>\n",
       "      <th>longitude</th>\n",
       "      <th>name</th>\n",
       "      <th>city</th>\n",
       "    </tr>\n",
       "  </thead>\n",
       "  <tbody>\n",
       "    <tr>\n",
       "      <th>0</th>\n",
       "      <td>3.5</td>\n",
       "      <td>1336</td>\n",
       "      <td>D4JtQNTI4X3KcbzacDJsMw</td>\n",
       "      <td>49.251342</td>\n",
       "      <td>-123.101333</td>\n",
       "      <td>Bob Likes Thai Food</td>\n",
       "      <td>Vancouver</td>\n",
       "    </tr>\n",
       "    <tr>\n",
       "      <th>1</th>\n",
       "      <td>3.5</td>\n",
       "      <td>1336</td>\n",
       "      <td>AaNj_9KNy9t1H1cu1NCNLQ</td>\n",
       "      <td>49.310091</td>\n",
       "      <td>-123.041686</td>\n",
       "      <td>Mumbai Masala Restaurant</td>\n",
       "      <td>North Vancouver</td>\n",
       "    </tr>\n",
       "    <tr>\n",
       "      <th>2</th>\n",
       "      <td>3.5</td>\n",
       "      <td>1336</td>\n",
       "      <td>XqaO85CV9Km7m_aQ3iIpRA</td>\n",
       "      <td>49.166831</td>\n",
       "      <td>-123.137747</td>\n",
       "      <td>Cactus Club Cafe</td>\n",
       "      <td>Richmond</td>\n",
       "    </tr>\n",
       "    <tr>\n",
       "      <th>3</th>\n",
       "      <td>3.5</td>\n",
       "      <td>1336</td>\n",
       "      <td>tcreyfoiR2NFMuEz0UClrg</td>\n",
       "      <td>49.289052</td>\n",
       "      <td>-123.139457</td>\n",
       "      <td>The Roost</td>\n",
       "      <td>Vancouver</td>\n",
       "    </tr>\n",
       "    <tr>\n",
       "      <th>4</th>\n",
       "      <td>3.5</td>\n",
       "      <td>1336</td>\n",
       "      <td>TDT5DiZ9preK1ad0AFLlDw</td>\n",
       "      <td>49.262321</td>\n",
       "      <td>-123.089898</td>\n",
       "      <td>Klasik Inasal &amp; Noodle Express</td>\n",
       "      <td>Vancouver</td>\n",
       "    </tr>\n",
       "  </tbody>\n",
       "</table>\n",
       "</div>"
      ],
      "text/plain": [
       "   stars  Count             business_id   latitude   longitude  \\\n",
       "0    3.5   1336  D4JtQNTI4X3KcbzacDJsMw  49.251342 -123.101333   \n",
       "1    3.5   1336  AaNj_9KNy9t1H1cu1NCNLQ  49.310091 -123.041686   \n",
       "2    3.5   1336  XqaO85CV9Km7m_aQ3iIpRA  49.166831 -123.137747   \n",
       "3    3.5   1336  tcreyfoiR2NFMuEz0UClrg  49.289052 -123.139457   \n",
       "4    3.5   1336  TDT5DiZ9preK1ad0AFLlDw  49.262321 -123.089898   \n",
       "\n",
       "                             name             city  \n",
       "0             Bob Likes Thai Food        Vancouver  \n",
       "1        Mumbai Masala Restaurant  North Vancouver  \n",
       "2                Cactus Club Cafe         Richmond  \n",
       "3                       The Roost        Vancouver  \n",
       "4  Klasik Inasal & Noodle Express        Vancouver  "
      ]
     },
     "execution_count": 30,
     "metadata": {},
     "output_type": "execute_result"
    }
   ],
   "source": [
    "number_of_occurences = number_of_occurences.merge(rests.drop_duplicates())\n",
    "\n",
    "number_of_occurences = number_of_occurences.merge(new_rest)\n",
    "\n",
    "number_of_occurences.head()"
   ]
  },
  {
   "cell_type": "code",
   "execution_count": 31,
   "id": "079ff966",
   "metadata": {},
   "outputs": [],
   "source": [
    "distortions = []\n",
    "\n",
    "K = range(1, 20)\n",
    "for k in K:\n",
    "    kmean = KMeans(n_clusters=k, random_state=0, n_init=50, max_iter=500)\n",
    "    kmean.fit(new_rest)\n",
    "    distortions.append(kmean.inertia_)"
   ]
  },
  {
   "cell_type": "code",
   "execution_count": 32,
   "id": "313914cd",
   "metadata": {},
   "outputs": [
    {
     "data": {
      "image/png": "[encoded data removed]",
      "text/plain": [
       "<Figure size 720x360 with 1 Axes>"
      ]
     },
     "metadata": {
      "needs_background": "light"
     },
     "output_type": "display_data"
    }
   ],
   "source": [
    "plt.figure(figsize=(10, 5))\n",
    "plt.plot(K, distortions, 'bx-')\n",
    "plt.xlabel('k')\n",
    "plt.ylabel('Distortion')\n",
    "plt.title('The Elbow Method graph')\n",
    "plt.show()"
   ]
  },
  {
   "cell_type": "code",
   "execution_count": 33,
   "id": "dbbe1f77",
   "metadata": {},
   "outputs": [
    {
     "name": "stderr",
     "output_type": "stream",
     "text": [
      "/var/folders/5d/yhcn6m7d2pn9ytcsv1j2890w0000gn/T/ipykernel_26537/3894668778.py:4: SettingWithCopyWarning: \n",
      "A value is trying to be set on a copy of a slice from a DataFrame.\n",
      "Try using .loc[row_indexer,col_indexer] = value instead\n",
      "\n",
      "See the caveats in the documentation: https://pandas.pydata.org/pandas-docs/stable/user_guide/indexing.html#returning-a-view-versus-a-copy\n",
      "  new_rest['cluster'] = kmeans.labels_\n"
     ]
    },
    {
     "data": {
      "text/html": [
       "<div>\n",
       "<style scoped>\n",
       "    .dataframe tbody tr th:only-of-type {\n",
       "        vertical-align: middle;\n",
       "    }\n",
       "\n",
       "    .dataframe tbody tr th {\n",
       "        vertical-align: top;\n",
       "    }\n",
       "\n",
       "    .dataframe thead th {\n",
       "        text-align: right;\n",
       "    }\n",
       "</style>\n",
       "<table border=\"1\" class=\"dataframe\">\n",
       "  <thead>\n",
       "    <tr style=\"text-align: right;\">\n",
       "      <th></th>\n",
       "      <th>latitude</th>\n",
       "      <th>longitude</th>\n",
       "      <th>cluster</th>\n",
       "    </tr>\n",
       "  </thead>\n",
       "  <tbody>\n",
       "    <tr>\n",
       "      <th>0</th>\n",
       "      <td>49.251342</td>\n",
       "      <td>-123.101333</td>\n",
       "      <td>0</td>\n",
       "    </tr>\n",
       "    <tr>\n",
       "      <th>1</th>\n",
       "      <td>49.254436</td>\n",
       "      <td>-123.020050</td>\n",
       "      <td>3</td>\n",
       "    </tr>\n",
       "    <tr>\n",
       "      <th>2</th>\n",
       "      <td>49.173723</td>\n",
       "      <td>-122.889641</td>\n",
       "      <td>1</td>\n",
       "    </tr>\n",
       "    <tr>\n",
       "      <th>3</th>\n",
       "      <td>49.219532</td>\n",
       "      <td>-123.040893</td>\n",
       "      <td>3</td>\n",
       "    </tr>\n",
       "    <tr>\n",
       "      <th>4</th>\n",
       "      <td>49.283532</td>\n",
       "      <td>-123.117107</td>\n",
       "      <td>0</td>\n",
       "    </tr>\n",
       "  </tbody>\n",
       "</table>\n",
       "</div>"
      ],
      "text/plain": [
       "    latitude   longitude  cluster\n",
       "0  49.251342 -123.101333        0\n",
       "1  49.254436 -123.020050        3\n",
       "2  49.173723 -122.889641        1\n",
       "3  49.219532 -123.040893        3\n",
       "4  49.283532 -123.117107        0"
      ]
     },
     "execution_count": 33,
     "metadata": {},
     "output_type": "execute_result"
    }
   ],
   "source": [
    "# running kmeans clustering\n",
    "kmeans = KMeans(n_clusters=4, random_state=0).fit(new_rest)\n",
    "\n",
    "new_rest['cluster'] = kmeans.labels_\n",
    "new_rest.head()"
   ]
  },
  {
   "cell_type": "code",
   "execution_count": 34,
   "id": "f9efcd79",
   "metadata": {},
   "outputs": [],
   "source": [
    "kmeans = KMeans(\n",
    "    n_clusters=10,  # Setting the amt of clusters\n",
    "    init='k-means++',  # Initialization kmeans\n",
    "    max_iter=300,  # Maximum iterations\n",
    "    n_init=10,  # algorithm will run with different centroid\n",
    "    random_state=0)  # random state for reproducibility\n",
    "\n",
    "pred_y = kmeans.fit_predict(X)"
   ]
  },
  {
   "cell_type": "code",
   "execution_count": 50,
   "id": "726886a7",
   "metadata": {},
   "outputs": [
    {
     "data": {
      "image/png": "[encoded data removed]",
      "text/plain": [
       "<Figure size 432x288 with 1 Axes>"
      ]
     },
     "metadata": {
      "needs_background": "light"
     },
     "output_type": "display_data"
    }
   ],
   "source": [
    "plt.scatter(X[:, 0], X[:, 1])\n",
    "\n",
    "plt.scatter(kmeans.cluster_centers_[:, 0],\n",
    "            kmeans.cluster_centers_[:, 1],\n",
    "            c='Darkred')  # Set centroid color to darkred\n",
    "\n",
    "plt.xlabel('latitude')\n",
    "plt.ylabel('longitude')\n",
    "\n",
    "plt.title(\n",
    "    'Scatter plot of clusters of restaurants grouped by count of ratings')\n",
    "plt.show()"
   ]
  },
  {
   "cell_type": "code",
   "execution_count": null,
   "id": "6e54089a",
   "metadata": {},
   "outputs": [],
   "source": []
  }
 ],
 "metadata": {
  "kernelspec": {
   "display_name": "Python 3 (ipykernel)",
   "language": "python",
   "name": "python3"
  },
  "language_info": {
   "codemirror_mode": {
    "name": "ipython",
    "version": 3
   },
   "file_extension": ".py",
   "mimetype": "text/x-python",
   "name": "python",
   "nbconvert_exporter": "python",
   "pygments_lexer": "ipython3",
   "version": "3.9.7"
  }
 },
 "nbformat": 4,
 "nbformat_minor": 5
}
