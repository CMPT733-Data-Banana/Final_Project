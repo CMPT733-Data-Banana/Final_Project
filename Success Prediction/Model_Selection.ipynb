{
 "cells": [
  {
   "cell_type": "code",
   "execution_count": 1,
   "id": "c1dd34cb",
   "metadata": {},
   "outputs": [],
   "source": [
    "import numpy as np\n",
    "import pandas as pd\n",
    "\n",
    "import matplotlib.pyplot as plt\n",
    "\n",
    "import seaborn as sns\n",
    "sns.set(style=\"whitegrid\")"
   ]
  },
  {
   "cell_type": "code",
   "execution_count": 2,
   "id": "8d088de8",
   "metadata": {},
   "outputs": [],
   "source": [
    "business_df = pd.read_csv('business_list.csv')"
   ]
  },
  {
   "cell_type": "code",
   "execution_count": 3,
   "id": "daaa0c0b",
   "metadata": {},
   "outputs": [
    {
     "name": "stdout",
     "output_type": "stream",
     "text": [
      "<class 'pandas.core.frame.DataFrame'>\n",
      "RangeIndex: 16134 entries, 0 to 16133\n",
      "Data columns (total 10 columns):\n",
      " #   Column        Non-Null Count  Dtype  \n",
      "---  ------        --------------  -----  \n",
      " 0   stars         16134 non-null  float64\n",
      " 1   business_id   16134 non-null  object \n",
      " 2   name          16134 non-null  object \n",
      " 3   city          16134 non-null  object \n",
      " 4   state         16134 non-null  object \n",
      " 5   postal_code   16113 non-null  object \n",
      " 6   latitude      16134 non-null  float64\n",
      " 7   longitude     16134 non-null  float64\n",
      " 8   categories    16134 non-null  object \n",
      " 9   review_count  16134 non-null  int64  \n",
      "dtypes: float64(3), int64(1), object(6)\n",
      "memory usage: 1.2+ MB\n"
     ]
    }
   ],
   "source": [
    "business_df.info()"
   ]
  },
  {
   "cell_type": "code",
   "execution_count": 4,
   "id": "45aa19fc",
   "metadata": {},
   "outputs": [],
   "source": [
    "#labelling Stars as 0 and 1 \n",
    "\n",
    "business_df['stars'] = np.where(business_df['stars'] < 4, 0, 1)"
   ]
  },
  {
   "cell_type": "code",
   "execution_count": 5,
   "id": "572b68b7",
   "metadata": {},
   "outputs": [
    {
     "data": {
      "text/plain": [
       "0    9919\n",
       "1    6215\n",
       "Name: stars, dtype: int64"
      ]
     },
     "execution_count": 5,
     "metadata": {},
     "output_type": "execute_result"
    }
   ],
   "source": [
    "business_df['stars'].value_counts()"
   ]
  },
  {
   "cell_type": "code",
   "execution_count": 6,
   "id": "23906155",
   "metadata": {},
   "outputs": [],
   "source": [
    "attributes_df = pd.read_csv('attributes.csv')"
   ]
  },
  {
   "cell_type": "code",
   "execution_count": 7,
   "id": "36bdca4f",
   "metadata": {},
   "outputs": [],
   "source": [
    "business_df_merged = pd.merge(business_df,attributes_df,on='business_id')"
   ]
  },
  {
   "cell_type": "code",
   "execution_count": 8,
   "id": "e9cd9e65",
   "metadata": {},
   "outputs": [
    {
     "name": "stdout",
     "output_type": "stream",
     "text": [
      "<class 'pandas.core.frame.DataFrame'>\n",
      "Int64Index: 10721 entries, 0 to 10720\n",
      "Data columns (total 18 columns):\n",
      " #   Column                             Non-Null Count  Dtype  \n",
      "---  ------                             --------------  -----  \n",
      " 0   stars_x                            10721 non-null  int32  \n",
      " 1   business_id                        10721 non-null  object \n",
      " 2   name                               10721 non-null  object \n",
      " 3   city                               10721 non-null  object \n",
      " 4   state                              10721 non-null  object \n",
      " 5   postal_code_x                      10721 non-null  object \n",
      " 6   latitude                           10721 non-null  float64\n",
      " 7   longitude                          10721 non-null  float64\n",
      " 8   categories_x                       10721 non-null  object \n",
      " 9   review_count                       10721 non-null  int64  \n",
      " 10  attributes.RestaurantsTakeOut      10721 non-null  bool   \n",
      " 11  attributes.GoodForKids             10721 non-null  bool   \n",
      " 12  postal_code_y                      10721 non-null  object \n",
      " 13  categories_y                       10721 non-null  object \n",
      " 14  attributes.RestaurantsPriceRange2  10721 non-null  int64  \n",
      " 15  attributes.WiFi                    10721 non-null  object \n",
      " 16  attributes.RestaurantsDelivery     10721 non-null  bool   \n",
      " 17  stars_y                            10721 non-null  float64\n",
      "dtypes: bool(3), float64(3), int32(1), int64(2), object(9)\n",
      "memory usage: 1.3+ MB\n"
     ]
    }
   ],
   "source": [
    "business_df_merged.info()"
   ]
  },
  {
   "cell_type": "code",
   "execution_count": 9,
   "id": "e6e2f4b9",
   "metadata": {},
   "outputs": [],
   "source": [
    "business_df_merged.rename(columns = {'stars_x':'stars','postal_code_x':'postal_code','categories_x':'categories'}, inplace = True)\n"
   ]
  },
  {
   "cell_type": "code",
   "execution_count": 10,
   "id": "96d2052b",
   "metadata": {},
   "outputs": [],
   "source": [
    "business_df_merged.to_csv('business_df_merged.csv', index=False, header=True)"
   ]
  },
  {
   "cell_type": "code",
   "execution_count": 11,
   "id": "1089afde",
   "metadata": {},
   "outputs": [],
   "source": [
    "X = business_df_merged.drop({'stars','state','business_id','name','review_count','attributes.RestaurantsTakeOut','attributes.GoodForKids','postal_code_y','categories_y','attributes.RestaurantsDelivery','stars_y'},axis = 1)\n",
    "y = business_df_merged['stars']"
   ]
  },
  {
   "cell_type": "code",
   "execution_count": 12,
   "id": "08b7c0cd",
   "metadata": {},
   "outputs": [
    {
     "name": "stdout",
     "output_type": "stream",
     "text": [
      "<class 'pandas.core.frame.DataFrame'>\n",
      "Int64Index: 10721 entries, 0 to 10720\n",
      "Data columns (total 7 columns):\n",
      " #   Column                             Non-Null Count  Dtype  \n",
      "---  ------                             --------------  -----  \n",
      " 0   city                               10721 non-null  object \n",
      " 1   postal_code                        10721 non-null  object \n",
      " 2   latitude                           10721 non-null  float64\n",
      " 3   longitude                          10721 non-null  float64\n",
      " 4   categories                         10721 non-null  object \n",
      " 5   attributes.RestaurantsPriceRange2  10721 non-null  int64  \n",
      " 6   attributes.WiFi                    10721 non-null  object \n",
      "dtypes: float64(2), int64(1), object(4)\n",
      "memory usage: 670.1+ KB\n"
     ]
    }
   ],
   "source": [
    "X.info()"
   ]
  },
  {
   "cell_type": "code",
   "execution_count": 13,
   "id": "e84fea63",
   "metadata": {},
   "outputs": [
    {
     "name": "stdout",
     "output_type": "stream",
     "text": [
      "<class 'pandas.core.series.Series'>\n",
      "Int64Index: 10721 entries, 0 to 10720\n",
      "Series name: stars\n",
      "Non-Null Count  Dtype\n",
      "--------------  -----\n",
      "10721 non-null  int32\n",
      "dtypes: int32(1)\n",
      "memory usage: 125.6 KB\n"
     ]
    }
   ],
   "source": [
    "y.info()"
   ]
  },
  {
   "cell_type": "code",
   "execution_count": 14,
   "id": "3f6d826f",
   "metadata": {},
   "outputs": [],
   "source": [
    "from sklearn import preprocessing\n",
    "le = preprocessing.LabelEncoder()\n",
    "for col in X:\n",
    "    if X[col].dtype == 'object':\n",
    "        X[col] = le.fit_transform(X[col])"
   ]
  },
  {
   "cell_type": "code",
   "execution_count": 15,
   "id": "c8d9ccf5",
   "metadata": {},
   "outputs": [],
   "source": [
    "from sklearn.model_selection import train_test_split\n",
    "X_train, X_test, y_train, y_test = train_test_split(X,y,test_size=0.3,random_state= 42)"
   ]
  },
  {
   "cell_type": "code",
   "execution_count": 16,
   "id": "de6f7cec",
   "metadata": {},
   "outputs": [
    {
     "name": "stdout",
     "output_type": "stream",
     "text": [
      "<class 'pandas.core.frame.DataFrame'>\n",
      "Int64Index: 10721 entries, 0 to 10720\n",
      "Data columns (total 7 columns):\n",
      " #   Column                             Non-Null Count  Dtype  \n",
      "---  ------                             --------------  -----  \n",
      " 0   city                               10721 non-null  int32  \n",
      " 1   postal_code                        10721 non-null  int32  \n",
      " 2   latitude                           10721 non-null  float64\n",
      " 3   longitude                          10721 non-null  float64\n",
      " 4   categories                         10721 non-null  int32  \n",
      " 5   attributes.RestaurantsPriceRange2  10721 non-null  int64  \n",
      " 6   attributes.WiFi                    10721 non-null  int32  \n",
      "dtypes: float64(2), int32(4), int64(1)\n",
      "memory usage: 502.5 KB\n"
     ]
    }
   ],
   "source": [
    "X.info()"
   ]
  },
  {
   "cell_type": "code",
   "execution_count": 17,
   "id": "5359a4b9",
   "metadata": {},
   "outputs": [],
   "source": [
    "from sklearn.preprocessing import MinMaxScaler\n",
    "\n",
    "scaler = MinMaxScaler(feature_range=(0,1))\n",
    "rescaledX_train = scaler.fit_transform(X_train)\n",
    "rescaledX_test = scaler.transform(X_test)"
   ]
  },
  {
   "cell_type": "code",
   "execution_count": 18,
   "id": "bd1d833c",
   "metadata": {},
   "outputs": [
    {
     "name": "stdout",
     "output_type": "stream",
     "text": [
      "Logistic regression classifier: \n",
      "Precision: 0.667\n",
      "Recall: 0.019\n",
      "Accuracy: 0.647\n",
      "F1 Score: 0.037\n",
      "Confusion Matrix:\n",
      "[[2060   11]\n",
      " [1124   22]]\n"
     ]
    }
   ],
   "source": [
    "from sklearn.linear_model import LogisticRegression\n",
    "from sklearn.metrics import confusion_matrix\n",
    "from sklearn.metrics import recall_score\n",
    "from sklearn.metrics import precision_score\n",
    "from sklearn.metrics import accuracy_score\n",
    "from sklearn.metrics import f1_score\n",
    "\n",
    "logreg = LogisticRegression()\n",
    "\n",
    "logreg.fit(rescaledX_train, y_train)\n",
    "\n",
    "y_pred = logreg.predict(rescaledX_test)\n",
    "\n",
    "print(\"Logistic regression classifier: \")\n",
    "\n",
    "print('Precision: %.3f' % precision_score(y_test, y_pred))\n",
    "print('Recall: %.3f' % recall_score(y_test, y_pred))\n",
    "print('Accuracy: %.3f' % accuracy_score(y_test, y_pred))\n",
    "print('F1 Score: %.3f' % f1_score(y_test, y_pred))\n",
    "\n",
    "cf_mtx = confusion_matrix(y_test, y_pred)\n",
    "print(\"Confusion Matrix:\")\n",
    "print(cf_mtx)\n"
   ]
  },
  {
   "cell_type": "code",
   "execution_count": 19,
   "id": "956589db",
   "metadata": {},
   "outputs": [
    {
     "name": "stdout",
     "output_type": "stream",
     "text": [
      "Random forest classifier: \n",
      "Precision: 0.878\n",
      "Recall: 0.795\n",
      "Accuracy: 0.888\n",
      "F1 Score: 0.835\n",
      "Confusion Matrix:\n",
      "[[1945  126]\n",
      " [ 235  911]]\n"
     ]
    }
   ],
   "source": [
    "from sklearn.ensemble import RandomForestClassifier\n",
    "from sklearn.metrics import confusion_matrix\n",
    "from sklearn.metrics import recall_score\n",
    "from sklearn.metrics import precision_score\n",
    "from sklearn.metrics import accuracy_score\n",
    "from sklearn.metrics import f1_score\n",
    "\n",
    "rf = RandomForestClassifier(random_state=0)\n",
    "\n",
    "rf.fit(rescaledX_train, y_train)\n",
    "\n",
    "y_pred = rf.predict(rescaledX_test)\n",
    "\n",
    "print(\"Random forest classifier: \")\n",
    "\n",
    "print('Precision: %.3f' % precision_score(y_test, y_pred))\n",
    "print('Recall: %.3f' % recall_score(y_test, y_pred))\n",
    "print('Accuracy: %.3f' % accuracy_score(y_test, y_pred))\n",
    "print('F1 Score: %.3f' % f1_score(y_test, y_pred))\n",
    "\n",
    "cf_mtx = confusion_matrix(y_test, y_pred)\n",
    "print(\"Confusion Matrix:\")\n",
    "print(cf_mtx)\n"
   ]
  },
  {
   "cell_type": "code",
   "execution_count": 20,
   "id": "3ca71420",
   "metadata": {},
   "outputs": [
    {
     "name": "stderr",
     "output_type": "stream",
     "text": [
      "C:\\Users\\aneeq\\anaconda3\\lib\\site-packages\\xgboost\\compat.py:36: FutureWarning: pandas.Int64Index is deprecated and will be removed from pandas in a future version. Use pandas.Index with the appropriate dtype instead.\n",
      "  from pandas import MultiIndex, Int64Index\n",
      "C:\\Users\\aneeq\\anaconda3\\lib\\site-packages\\xgboost\\sklearn.py:1224: UserWarning: The use of label encoder in XGBClassifier is deprecated and will be removed in a future release. To remove this warning, do the following: 1) Pass option use_label_encoder=False when constructing XGBClassifier object; and 2) Encode your labels (y) as integers starting with 0, i.e. 0, 1, 2, ..., [num_class - 1].\n",
      "  warnings.warn(label_encoder_deprecation_msg, UserWarning)\n"
     ]
    },
    {
     "name": "stdout",
     "output_type": "stream",
     "text": [
      "[06:25:05] WARNING: C:/Users/Administrator/workspace/xgboost-win64_release_1.5.1/src/learner.cc:1115: Starting in XGBoost 1.3.0, the default evaluation metric used with the objective 'binary:logistic' was changed from 'error' to 'logloss'. Explicitly set eval_metric if you'd like to restore the old behavior.\n",
      "XGB classifier: \n",
      "Precision: 0.844\n",
      "Recall: 0.692\n",
      "Accuracy: 0.845\n",
      "F1 Score: 0.760\n",
      "Confusion Matrix:\n",
      "[[1924  147]\n",
      " [ 353  793]]\n"
     ]
    }
   ],
   "source": [
    "from sklearn.metrics import confusion_matrix\n",
    "from sklearn.metrics import recall_score\n",
    "from sklearn.metrics import precision_score\n",
    "from sklearn.metrics import accuracy_score\n",
    "from sklearn.metrics import f1_score\n",
    "from xgboost.sklearn import XGBClassifier\n",
    "\n",
    "xgb = XGBClassifier(random_state=0)\n",
    "\n",
    "xgb.fit(rescaledX_train, y_train)\n",
    "\n",
    "y_pred = xgb.predict(rescaledX_test)\n",
    "\n",
    "print(\"XGB classifier: \")\n",
    "\n",
    "print('Precision: %.3f' % precision_score(y_test, y_pred))\n",
    "print('Recall: %.3f' % recall_score(y_test, y_pred))\n",
    "print('Accuracy: %.3f' % accuracy_score(y_test, y_pred))\n",
    "print('F1 Score: %.3f' % f1_score(y_test, y_pred))\n",
    "\n",
    "cf_mtx = confusion_matrix(y_test, y_pred)\n",
    "print(\"Confusion Matrix:\")\n",
    "print(cf_mtx)"
   ]
  },
  {
   "cell_type": "code",
   "execution_count": 21,
   "id": "6053a608",
   "metadata": {},
   "outputs": [],
   "source": [
    "import pickle\n",
    "\n",
    "pickle.dump(rf, open('rf_model.sav', 'wb'))"
   ]
  },
  {
   "cell_type": "code",
   "execution_count": null,
   "id": "19937b59",
   "metadata": {},
   "outputs": [],
   "source": []
  }
 ],
 "metadata": {
  "kernelspec": {
   "display_name": "Python 3",
   "language": "python",
   "name": "python3"
  },
  "language_info": {
   "codemirror_mode": {
    "name": "ipython",
    "version": 3
   },
   "file_extension": ".py",
   "mimetype": "text/x-python",
   "name": "python",
   "nbconvert_exporter": "python",
   "pygments_lexer": "ipython3",
   "version": "3.8.8"
  }
 },
 "nbformat": 4,
 "nbformat_minor": 5
}
