{
 "cells": [
  {
   "cell_type": "code",
   "execution_count": 1,
   "id": "1bd84635",
   "metadata": {},
   "outputs": [],
   "source": [
    "import numpy as np\n",
    "import pandas as pd\n",
    "\n",
    "import matplotlib.pyplot as plt\n",
    "\n",
    "import seaborn as sns\n",
    "sns.set(style=\"whitegrid\")\n",
    "import os.path"
   ]
  },
  {
   "cell_type": "code",
   "execution_count": 2,
   "id": "ad187d86",
   "metadata": {},
   "outputs": [],
   "source": [
    "raw_df = pd.read_csv('bc_rest_open.csv')"
   ]
  },
  {
   "cell_type": "code",
   "execution_count": 3,
   "id": "2831cce1",
   "metadata": {},
   "outputs": [
    {
     "data": {
      "text/html": [
       "<div>\n",
       "<style scoped>\n",
       "    .dataframe tbody tr th:only-of-type {\n",
       "        vertical-align: middle;\n",
       "    }\n",
       "\n",
       "    .dataframe tbody tr th {\n",
       "        vertical-align: top;\n",
       "    }\n",
       "\n",
       "    .dataframe thead th {\n",
       "        text-align: right;\n",
       "    }\n",
       "</style>\n",
       "<table border=\"1\" class=\"dataframe\">\n",
       "  <thead>\n",
       "    <tr style=\"text-align: right;\">\n",
       "      <th></th>\n",
       "      <th>business_id</th>\n",
       "      <th>name</th>\n",
       "      <th>address</th>\n",
       "      <th>city</th>\n",
       "      <th>state</th>\n",
       "      <th>postal_code</th>\n",
       "      <th>latitude</th>\n",
       "      <th>longitude</th>\n",
       "      <th>stars</th>\n",
       "      <th>review_count</th>\n",
       "      <th>is_open</th>\n",
       "      <th>attributes</th>\n",
       "      <th>categories</th>\n",
       "      <th>hours</th>\n",
       "    </tr>\n",
       "  </thead>\n",
       "  <tbody>\n",
       "    <tr>\n",
       "      <th>0</th>\n",
       "      <td>D4JtQNTI4X3KcbzacDJsMw</td>\n",
       "      <td>Bob Likes Thai Food</td>\n",
       "      <td>3755 Main St</td>\n",
       "      <td>Vancouver</td>\n",
       "      <td>BC</td>\n",
       "      <td>V5V</td>\n",
       "      <td>49.251342</td>\n",
       "      <td>-123.101333</td>\n",
       "      <td>3.5</td>\n",
       "      <td>169</td>\n",
       "      <td>1</td>\n",
       "      <td>{'GoodForKids': 'True', 'Alcohol': \"u'none'\", ...</td>\n",
       "      <td>Restaurants, Thai</td>\n",
       "      <td>{'Monday': '17:0-21:0', 'Tuesday': '17:0-21:0'...</td>\n",
       "    </tr>\n",
       "    <tr>\n",
       "      <th>1</th>\n",
       "      <td>QciD6FbNklaJvUbLExD4Nw</td>\n",
       "      <td>ARGO</td>\n",
       "      <td>3790 Canada Way, Unit 108</td>\n",
       "      <td>Burnaby</td>\n",
       "      <td>BC</td>\n",
       "      <td>V5G 1G4</td>\n",
       "      <td>49.254436</td>\n",
       "      <td>-123.020050</td>\n",
       "      <td>4.0</td>\n",
       "      <td>76</td>\n",
       "      <td>1</td>\n",
       "      <td>{'WheelchairAccessible': 'False', 'Restaurants...</td>\n",
       "      <td>Food Delivery Services, Food, Restaurants, Med...</td>\n",
       "      <td>{'Monday': '0:0-0:0', 'Tuesday': '11:30-21:0',...</td>\n",
       "    </tr>\n",
       "    <tr>\n",
       "      <th>2</th>\n",
       "      <td>Xi2GGNzOiUS8r6WCFvu-fw</td>\n",
       "      <td>Kerala Kitchen</td>\n",
       "      <td>103- 9386 120 Street</td>\n",
       "      <td>Surrey</td>\n",
       "      <td>BC</td>\n",
       "      <td>V3V 4B9</td>\n",
       "      <td>49.173723</td>\n",
       "      <td>-122.889641</td>\n",
       "      <td>4.0</td>\n",
       "      <td>9</td>\n",
       "      <td>1</td>\n",
       "      <td>{'BusinessParking': \"{'garage': False, 'street...</td>\n",
       "      <td>Indian, Restaurants</td>\n",
       "      <td>{'Monday': '11:0-22:0', 'Tuesday': '11:0-22:0'...</td>\n",
       "    </tr>\n",
       "    <tr>\n",
       "      <th>3</th>\n",
       "      <td>OfA_4cHgvlknHMcn0qNs2w</td>\n",
       "      <td>Little Caesars</td>\n",
       "      <td>7010 Kerr Street</td>\n",
       "      <td>Vancouver</td>\n",
       "      <td>BC</td>\n",
       "      <td>V5S</td>\n",
       "      <td>49.219532</td>\n",
       "      <td>-123.040893</td>\n",
       "      <td>1.0</td>\n",
       "      <td>9</td>\n",
       "      <td>1</td>\n",
       "      <td>{'GoodForKids': 'True', 'RestaurantsReservatio...</td>\n",
       "      <td>Restaurants, Pizza</td>\n",
       "      <td>{'Monday': '11:0-23:0', 'Tuesday': '11:0-23:0'...</td>\n",
       "    </tr>\n",
       "    <tr>\n",
       "      <th>4</th>\n",
       "      <td>r-hWf-bd9im5rj_l2MeofQ</td>\n",
       "      <td>Take Five Café</td>\n",
       "      <td>102-609 Granville Street</td>\n",
       "      <td>Vancouver</td>\n",
       "      <td>BC</td>\n",
       "      <td>V7Y 1H4</td>\n",
       "      <td>49.283532</td>\n",
       "      <td>-123.117107</td>\n",
       "      <td>4.0</td>\n",
       "      <td>17</td>\n",
       "      <td>1</td>\n",
       "      <td>{'BikeParking': 'True', 'WiFi': \"'free'\", 'Res...</td>\n",
       "      <td>Food, Coffee &amp; Tea, Restaurants, Cafes</td>\n",
       "      <td>NaN</td>\n",
       "    </tr>\n",
       "  </tbody>\n",
       "</table>\n",
       "</div>"
      ],
      "text/plain": [
       "              business_id                 name                    address  \\\n",
       "0  D4JtQNTI4X3KcbzacDJsMw  Bob Likes Thai Food               3755 Main St   \n",
       "1  QciD6FbNklaJvUbLExD4Nw                 ARGO  3790 Canada Way, Unit 108   \n",
       "2  Xi2GGNzOiUS8r6WCFvu-fw       Kerala Kitchen       103- 9386 120 Street   \n",
       "3  OfA_4cHgvlknHMcn0qNs2w       Little Caesars           7010 Kerr Street   \n",
       "4  r-hWf-bd9im5rj_l2MeofQ       Take Five Café   102-609 Granville Street   \n",
       "\n",
       "        city state postal_code   latitude   longitude  stars  review_count  \\\n",
       "0  Vancouver    BC         V5V  49.251342 -123.101333    3.5           169   \n",
       "1    Burnaby    BC     V5G 1G4  49.254436 -123.020050    4.0            76   \n",
       "2     Surrey    BC     V3V 4B9  49.173723 -122.889641    4.0             9   \n",
       "3  Vancouver    BC         V5S  49.219532 -123.040893    1.0             9   \n",
       "4  Vancouver    BC     V7Y 1H4  49.283532 -123.117107    4.0            17   \n",
       "\n",
       "   is_open                                         attributes  \\\n",
       "0        1  {'GoodForKids': 'True', 'Alcohol': \"u'none'\", ...   \n",
       "1        1  {'WheelchairAccessible': 'False', 'Restaurants...   \n",
       "2        1  {'BusinessParking': \"{'garage': False, 'street...   \n",
       "3        1  {'GoodForKids': 'True', 'RestaurantsReservatio...   \n",
       "4        1  {'BikeParking': 'True', 'WiFi': \"'free'\", 'Res...   \n",
       "\n",
       "                                          categories  \\\n",
       "0                                  Restaurants, Thai   \n",
       "1  Food Delivery Services, Food, Restaurants, Med...   \n",
       "2                                Indian, Restaurants   \n",
       "3                                 Restaurants, Pizza   \n",
       "4             Food, Coffee & Tea, Restaurants, Cafes   \n",
       "\n",
       "                                               hours  \n",
       "0  {'Monday': '17:0-21:0', 'Tuesday': '17:0-21:0'...  \n",
       "1  {'Monday': '0:0-0:0', 'Tuesday': '11:30-21:0',...  \n",
       "2  {'Monday': '11:0-22:0', 'Tuesday': '11:0-22:0'...  \n",
       "3  {'Monday': '11:0-23:0', 'Tuesday': '11:0-23:0'...  \n",
       "4                                                NaN  "
      ]
     },
     "execution_count": 3,
     "metadata": {},
     "output_type": "execute_result"
    }
   ],
   "source": [
    "raw_df.head()"
   ]
  },
  {
   "cell_type": "code",
   "execution_count": 4,
   "id": "473bb45f",
   "metadata": {},
   "outputs": [
    {
     "name": "stdout",
     "output_type": "stream",
     "text": [
      "<class 'pandas.core.frame.DataFrame'>\n",
      "RangeIndex: 4730 entries, 0 to 4729\n",
      "Data columns (total 14 columns):\n",
      " #   Column        Non-Null Count  Dtype  \n",
      "---  ------        --------------  -----  \n",
      " 0   business_id   4730 non-null   object \n",
      " 1   name          4730 non-null   object \n",
      " 2   address       4713 non-null   object \n",
      " 3   city          4730 non-null   object \n",
      " 4   state         4730 non-null   object \n",
      " 5   postal_code   4722 non-null   object \n",
      " 6   latitude      4730 non-null   float64\n",
      " 7   longitude     4730 non-null   float64\n",
      " 8   stars         4730 non-null   float64\n",
      " 9   review_count  4730 non-null   int64  \n",
      " 10  is_open       4730 non-null   int64  \n",
      " 11  attributes    4631 non-null   object \n",
      " 12  categories    4730 non-null   object \n",
      " 13  hours         4143 non-null   object \n",
      "dtypes: float64(3), int64(2), object(9)\n",
      "memory usage: 517.5+ KB\n"
     ]
    }
   ],
   "source": [
    "raw_df.info()"
   ]
  },
  {
   "cell_type": "code",
   "execution_count": 12,
   "id": "1cf7e6b0",
   "metadata": {},
   "outputs": [],
   "source": [
    "raw_df['city'] = raw_df.city.str.title()\n",
    "raw_df['name'] = raw_df.name.str.lower()\n",
    "raw_df['categories'] = raw_df.categories.str.lower()"
   ]
  },
  {
   "cell_type": "code",
   "execution_count": 13,
   "id": "a40a2f48",
   "metadata": {},
   "outputs": [
    {
     "data": {
      "text/plain": [
       "business_id       0\n",
       "name              0\n",
       "address          17\n",
       "city              0\n",
       "state             0\n",
       "postal_code       8\n",
       "latitude          0\n",
       "longitude         0\n",
       "stars             0\n",
       "review_count      0\n",
       "is_open           0\n",
       "attributes       99\n",
       "categories        0\n",
       "hours           587\n",
       "dtype: int64"
      ]
     },
     "execution_count": 13,
     "metadata": {},
     "output_type": "execute_result"
    }
   ],
   "source": [
    "raw_df.isnull().sum()"
   ]
  },
  {
   "cell_type": "code",
   "execution_count": 8,
   "id": "f0a8e631",
   "metadata": {},
   "outputs": [],
   "source": [
    "cleaned_cols = ['stars', 'business_id', 'name',\n",
    "               'city', 'state', 'postal_code', 'latitude', 'longitude',\n",
    "               'categories', 'review_count']"
   ]
  },
  {
   "cell_type": "code",
   "execution_count": 9,
   "id": "46e94c99",
   "metadata": {},
   "outputs": [],
   "source": [
    "business_df = raw_df[cleaned_cols]"
   ]
  },
  {
   "cell_type": "code",
   "execution_count": 10,
   "id": "362dd487",
   "metadata": {},
   "outputs": [
    {
     "data": {
      "text/html": [
       "<div>\n",
       "<style scoped>\n",
       "    .dataframe tbody tr th:only-of-type {\n",
       "        vertical-align: middle;\n",
       "    }\n",
       "\n",
       "    .dataframe tbody tr th {\n",
       "        vertical-align: top;\n",
       "    }\n",
       "\n",
       "    .dataframe thead th {\n",
       "        text-align: right;\n",
       "    }\n",
       "</style>\n",
       "<table border=\"1\" class=\"dataframe\">\n",
       "  <thead>\n",
       "    <tr style=\"text-align: right;\">\n",
       "      <th></th>\n",
       "      <th>stars</th>\n",
       "      <th>business_id</th>\n",
       "      <th>name</th>\n",
       "      <th>city</th>\n",
       "      <th>state</th>\n",
       "      <th>postal_code</th>\n",
       "      <th>latitude</th>\n",
       "      <th>longitude</th>\n",
       "      <th>categories</th>\n",
       "      <th>review_count</th>\n",
       "    </tr>\n",
       "  </thead>\n",
       "  <tbody>\n",
       "    <tr>\n",
       "      <th>0</th>\n",
       "      <td>3.5</td>\n",
       "      <td>D4JtQNTI4X3KcbzacDJsMw</td>\n",
       "      <td>bob likes thai food</td>\n",
       "      <td>Vancouver</td>\n",
       "      <td>BC</td>\n",
       "      <td>V5V</td>\n",
       "      <td>49.251342</td>\n",
       "      <td>-123.101333</td>\n",
       "      <td>restaurants, thai</td>\n",
       "      <td>169</td>\n",
       "    </tr>\n",
       "    <tr>\n",
       "      <th>1</th>\n",
       "      <td>4.0</td>\n",
       "      <td>QciD6FbNklaJvUbLExD4Nw</td>\n",
       "      <td>argo</td>\n",
       "      <td>Burnaby</td>\n",
       "      <td>BC</td>\n",
       "      <td>V5G 1G4</td>\n",
       "      <td>49.254436</td>\n",
       "      <td>-123.020050</td>\n",
       "      <td>food delivery services, food, restaurants, med...</td>\n",
       "      <td>76</td>\n",
       "    </tr>\n",
       "    <tr>\n",
       "      <th>2</th>\n",
       "      <td>4.0</td>\n",
       "      <td>Xi2GGNzOiUS8r6WCFvu-fw</td>\n",
       "      <td>kerala kitchen</td>\n",
       "      <td>Surrey</td>\n",
       "      <td>BC</td>\n",
       "      <td>V3V 4B9</td>\n",
       "      <td>49.173723</td>\n",
       "      <td>-122.889641</td>\n",
       "      <td>indian, restaurants</td>\n",
       "      <td>9</td>\n",
       "    </tr>\n",
       "    <tr>\n",
       "      <th>3</th>\n",
       "      <td>1.0</td>\n",
       "      <td>OfA_4cHgvlknHMcn0qNs2w</td>\n",
       "      <td>little caesars</td>\n",
       "      <td>Vancouver</td>\n",
       "      <td>BC</td>\n",
       "      <td>V5S</td>\n",
       "      <td>49.219532</td>\n",
       "      <td>-123.040893</td>\n",
       "      <td>restaurants, pizza</td>\n",
       "      <td>9</td>\n",
       "    </tr>\n",
       "    <tr>\n",
       "      <th>4</th>\n",
       "      <td>4.0</td>\n",
       "      <td>r-hWf-bd9im5rj_l2MeofQ</td>\n",
       "      <td>take five café</td>\n",
       "      <td>Vancouver</td>\n",
       "      <td>BC</td>\n",
       "      <td>V7Y 1H4</td>\n",
       "      <td>49.283532</td>\n",
       "      <td>-123.117107</td>\n",
       "      <td>food, coffee &amp; tea, restaurants, cafes</td>\n",
       "      <td>17</td>\n",
       "    </tr>\n",
       "  </tbody>\n",
       "</table>\n",
       "</div>"
      ],
      "text/plain": [
       "   stars             business_id                 name       city state  \\\n",
       "0    3.5  D4JtQNTI4X3KcbzacDJsMw  bob likes thai food  Vancouver    BC   \n",
       "1    4.0  QciD6FbNklaJvUbLExD4Nw                 argo    Burnaby    BC   \n",
       "2    4.0  Xi2GGNzOiUS8r6WCFvu-fw       kerala kitchen     Surrey    BC   \n",
       "3    1.0  OfA_4cHgvlknHMcn0qNs2w       little caesars  Vancouver    BC   \n",
       "4    4.0  r-hWf-bd9im5rj_l2MeofQ       take five café  Vancouver    BC   \n",
       "\n",
       "  postal_code   latitude   longitude  \\\n",
       "0         V5V  49.251342 -123.101333   \n",
       "1     V5G 1G4  49.254436 -123.020050   \n",
       "2     V3V 4B9  49.173723 -122.889641   \n",
       "3         V5S  49.219532 -123.040893   \n",
       "4     V7Y 1H4  49.283532 -123.117107   \n",
       "\n",
       "                                          categories  review_count  \n",
       "0                                  restaurants, thai           169  \n",
       "1  food delivery services, food, restaurants, med...            76  \n",
       "2                                indian, restaurants             9  \n",
       "3                                 restaurants, pizza             9  \n",
       "4             food, coffee & tea, restaurants, cafes            17  "
      ]
     },
     "execution_count": 10,
     "metadata": {},
     "output_type": "execute_result"
    }
   ],
   "source": [
    "business_df.head()"
   ]
  },
  {
   "cell_type": "code",
   "execution_count": 11,
   "id": "e23c1bfa",
   "metadata": {},
   "outputs": [
    {
     "name": "stdout",
     "output_type": "stream",
     "text": [
      "<class 'pandas.core.frame.DataFrame'>\n",
      "RangeIndex: 4730 entries, 0 to 4729\n",
      "Data columns (total 10 columns):\n",
      " #   Column        Non-Null Count  Dtype  \n",
      "---  ------        --------------  -----  \n",
      " 0   stars         4730 non-null   float64\n",
      " 1   business_id   4730 non-null   object \n",
      " 2   name          4730 non-null   object \n",
      " 3   city          4730 non-null   object \n",
      " 4   state         4730 non-null   object \n",
      " 5   postal_code   4722 non-null   object \n",
      " 6   latitude      4730 non-null   float64\n",
      " 7   longitude     4730 non-null   float64\n",
      " 8   categories    4730 non-null   object \n",
      " 9   review_count  4730 non-null   int64  \n",
      "dtypes: float64(3), int64(1), object(6)\n",
      "memory usage: 369.7+ KB\n"
     ]
    }
   ],
   "source": [
    "business_df.info()"
   ]
  },
  {
   "cell_type": "code",
   "execution_count": 14,
   "id": "bba55b82",
   "metadata": {},
   "outputs": [],
   "source": [
    "business_df = business_df.assign(categories = business_df.categories.str.split(', ')).explode('categories')"
   ]
  },
  {
   "cell_type": "code",
   "execution_count": 15,
   "id": "d337b84d",
   "metadata": {},
   "outputs": [],
   "source": [
    "sort_business_df = business_df.groupby('categories').count().sort_values(by='business_id',ascending=False).reset_index()\n"
   ]
  },
  {
   "cell_type": "code",
   "execution_count": 16,
   "id": "59ef8d60",
   "metadata": {},
   "outputs": [
    {
     "data": {
      "image/png": "[encoded data removed]",
      "text/plain": [
       "<Figure size 1080x504 with 1 Axes>"
      ]
     },
     "metadata": {},
     "output_type": "display_data"
    }
   ],
   "source": [
    "sort_business_df.head(20).plot(kind = 'barh', x = 'categories', y = 'business_id', figsize=(15,7))\n",
    "plt.title('Popular Categories')\n",
    "plt.xlabel('# of Business')\n",
    "plt.ylabel('Categories')\n",
    "plt.show()"
   ]
  },
  {
   "cell_type": "code",
   "execution_count": 27,
   "id": "a5564cf5",
   "metadata": {},
   "outputs": [
    {
     "name": "stderr",
     "output_type": "stream",
     "text": [
      "<ipython-input-27-74964a312800>:3: FutureWarning: The error_bad_lines argument has been deprecated and will be removed in a future version. Use on_bad_lines in the future.\n",
      "\n",
      "\n",
      "  categories_df = pd.read_csv('cat_list.csv',encoding='utf-8',error_bad_lines=False )\n"
     ]
    }
   ],
   "source": [
    "# Categories with count more than 100\n",
    "\n",
    "categories_df = pd.read_csv('cat_list.csv',encoding='utf-8',error_bad_lines=False )"
   ]
  },
  {
   "cell_type": "code",
   "execution_count": 28,
   "id": "452568ad",
   "metadata": {},
   "outputs": [],
   "source": [
    "business_df=business_df[business_df.categories.isin(categories_df.categories)]"
   ]
  },
  {
   "cell_type": "code",
   "execution_count": 29,
   "id": "cb98c535",
   "metadata": {},
   "outputs": [
    {
     "data": {
      "text/plain": [
       "array(['restaurants', 'food delivery services', 'food', 'mediterranean',\n",
       "       'pizza', 'indian', 'coffee & tea', 'cafes', 'chinese',\n",
       "       'canadian (new)', 'bars', 'nightlife', 'sushi bars', 'sandwiches',\n",
       "       'american (traditional)', 'noodles', 'mexican', 'specialty food',\n",
       "       'burgers', 'fast food', 'italian', 'japanese', 'asian fusion',\n",
       "       'vietnamese', 'bakeries', 'middle eastern', 'chicken wings',\n",
       "       'salad', 'breakfast & brunch', 'seafood', 'american (new)',\n",
       "       'vegetarian', 'pubs', 'delis', 'dim sum', 'taiwanese', 'desserts',\n",
       "       'barbeque', 'korean'], dtype=object)"
      ]
     },
     "execution_count": 29,
     "metadata": {},
     "output_type": "execute_result"
    }
   ],
   "source": [
    "business_df.categories.unique()"
   ]
  },
  {
   "cell_type": "code",
   "execution_count": 30,
   "id": "bcbfb1fb",
   "metadata": {},
   "outputs": [],
   "source": [
    "business_df.to_csv('business_list.csv', index=False, header=True)"
   ]
  },
  {
   "cell_type": "code",
   "execution_count": null,
   "id": "73a56cbe",
   "metadata": {},
   "outputs": [],
   "source": []
  }
 ],
 "metadata": {
  "kernelspec": {
   "display_name": "Python 3",
   "language": "python",
   "name": "python3"
  },
  "language_info": {
   "codemirror_mode": {
    "name": "ipython",
    "version": 3
   },
   "file_extension": ".py",
   "mimetype": "text/x-python",
   "name": "python",
   "nbconvert_exporter": "python",
   "pygments_lexer": "ipython3",
   "version": "3.8.8"
  }
 },
 "nbformat": 4,
 "nbformat_minor": 5
}
