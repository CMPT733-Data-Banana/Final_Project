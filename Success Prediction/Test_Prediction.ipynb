{
 "cells": [
  {
   "cell_type": "code",
   "execution_count": 1,
   "id": "5f3bd42f",
   "metadata": {},
   "outputs": [],
   "source": [
    "import numpy as np\n",
    "import pandas as pd\n",
    "\n",
    "import matplotlib.pyplot as plt\n",
    "\n",
    "import seaborn as sns\n",
    "sns.set(style=\"whitegrid\")"
   ]
  },
  {
   "cell_type": "code",
   "execution_count": 2,
   "id": "a6f1b5d0",
   "metadata": {},
   "outputs": [],
   "source": [
    "business_df_merged = pd.read_csv('business_df_merged.csv')"
   ]
  },
  {
   "cell_type": "code",
   "execution_count": 3,
   "id": "b3a63f23",
   "metadata": {},
   "outputs": [
    {
     "name": "stdout",
     "output_type": "stream",
     "text": [
      "<class 'pandas.core.frame.DataFrame'>\n",
      "RangeIndex: 10721 entries, 0 to 10720\n",
      "Data columns (total 18 columns):\n",
      " #   Column                             Non-Null Count  Dtype  \n",
      "---  ------                             --------------  -----  \n",
      " 0   stars                              10721 non-null  int64  \n",
      " 1   business_id                        10721 non-null  object \n",
      " 2   name                               10721 non-null  object \n",
      " 3   city                               10721 non-null  object \n",
      " 4   state                              10721 non-null  object \n",
      " 5   postal_code                        10721 non-null  object \n",
      " 6   latitude                           10721 non-null  float64\n",
      " 7   longitude                          10721 non-null  float64\n",
      " 8   categories                         10721 non-null  object \n",
      " 9   review_count                       10721 non-null  int64  \n",
      " 10  attributes.RestaurantsTakeOut      10721 non-null  bool   \n",
      " 11  attributes.GoodForKids             10721 non-null  bool   \n",
      " 12  postal_code_y                      10721 non-null  object \n",
      " 13  categories_y                       10721 non-null  object \n",
      " 14  attributes.RestaurantsPriceRange2  10721 non-null  int64  \n",
      " 15  attributes.WiFi                    10721 non-null  object \n",
      " 16  attributes.RestaurantsDelivery     10721 non-null  bool   \n",
      " 17  stars_y                            10721 non-null  float64\n",
      "dtypes: bool(3), float64(3), int64(3), object(9)\n",
      "memory usage: 1.3+ MB\n"
     ]
    }
   ],
   "source": [
    "business_df_merged.info()"
   ]
  },
  {
   "cell_type": "code",
   "execution_count": 4,
   "id": "7dceffe3",
   "metadata": {},
   "outputs": [],
   "source": [
    "X = business_df_merged.drop({'stars','state','business_id','name','review_count','attributes.RestaurantsTakeOut','attributes.GoodForKids','postal_code_y','categories_y','attributes.RestaurantsDelivery','stars_y'},axis = 1)\n",
    "y = business_df_merged['stars']"
   ]
  },
  {
   "cell_type": "code",
   "execution_count": 5,
   "id": "d7130faa",
   "metadata": {},
   "outputs": [
    {
     "name": "stdout",
     "output_type": "stream",
     "text": [
      "<class 'pandas.core.frame.DataFrame'>\n",
      "RangeIndex: 10721 entries, 0 to 10720\n",
      "Data columns (total 7 columns):\n",
      " #   Column                             Non-Null Count  Dtype  \n",
      "---  ------                             --------------  -----  \n",
      " 0   city                               10721 non-null  object \n",
      " 1   postal_code                        10721 non-null  object \n",
      " 2   latitude                           10721 non-null  float64\n",
      " 3   longitude                          10721 non-null  float64\n",
      " 4   categories                         10721 non-null  object \n",
      " 5   attributes.RestaurantsPriceRange2  10721 non-null  int64  \n",
      " 6   attributes.WiFi                    10721 non-null  object \n",
      "dtypes: float64(2), int64(1), object(4)\n",
      "memory usage: 586.4+ KB\n"
     ]
    }
   ],
   "source": [
    "X.info()\n"
   ]
  },
  {
   "cell_type": "code",
   "execution_count": 6,
   "id": "9ea179d6",
   "metadata": {},
   "outputs": [],
   "source": [
    "from sklearn.model_selection import train_test_split\n",
    "X_train, X_test, y_train, y_test = train_test_split(X,y,test_size=0.3,random_state= 42)"
   ]
  },
  {
   "cell_type": "code",
   "execution_count": 7,
   "id": "1a8ce0ef",
   "metadata": {},
   "outputs": [],
   "source": [
    "X_test.reset_index(drop=True, inplace=True)"
   ]
  },
  {
   "cell_type": "code",
   "execution_count": 8,
   "id": "f85f206d",
   "metadata": {},
   "outputs": [],
   "source": [
    "from sklearn import preprocessing\n",
    "le = preprocessing.LabelEncoder()\n",
    "for col in X:\n",
    "    if X[col].dtype == 'object':\n",
    "        X[col] = le.fit_transform(X[col])"
   ]
  },
  {
   "cell_type": "code",
   "execution_count": 9,
   "id": "bef1ea15",
   "metadata": {},
   "outputs": [
    {
     "data": {
      "text/html": [
       "<div>\n",
       "<style scoped>\n",
       "    .dataframe tbody tr th:only-of-type {\n",
       "        vertical-align: middle;\n",
       "    }\n",
       "\n",
       "    .dataframe tbody tr th {\n",
       "        vertical-align: top;\n",
       "    }\n",
       "\n",
       "    .dataframe thead th {\n",
       "        text-align: right;\n",
       "    }\n",
       "</style>\n",
       "<table border=\"1\" class=\"dataframe\">\n",
       "  <thead>\n",
       "    <tr style=\"text-align: right;\">\n",
       "      <th></th>\n",
       "      <th>city</th>\n",
       "      <th>postal_code</th>\n",
       "      <th>latitude</th>\n",
       "      <th>longitude</th>\n",
       "      <th>categories</th>\n",
       "      <th>attributes.RestaurantsPriceRange2</th>\n",
       "      <th>attributes.WiFi</th>\n",
       "    </tr>\n",
       "  </thead>\n",
       "  <tbody>\n",
       "    <tr>\n",
       "      <th>count</th>\n",
       "      <td>10721.000000</td>\n",
       "      <td>10721.000000</td>\n",
       "      <td>10721.000000</td>\n",
       "      <td>10721.000000</td>\n",
       "      <td>10721.000000</td>\n",
       "      <td>10721.000000</td>\n",
       "      <td>10721.000000</td>\n",
       "    </tr>\n",
       "    <tr>\n",
       "      <th>mean</th>\n",
       "      <td>13.539782</td>\n",
       "      <td>908.986289</td>\n",
       "      <td>49.249359</td>\n",
       "      <td>-123.067450</td>\n",
       "      <td>21.309486</td>\n",
       "      <td>1.741069</td>\n",
       "      <td>0.368809</td>\n",
       "    </tr>\n",
       "    <tr>\n",
       "      <th>std</th>\n",
       "      <td>5.525376</td>\n",
       "      <td>486.192467</td>\n",
       "      <td>0.048763</td>\n",
       "      <td>0.105322</td>\n",
       "      <td>10.421334</td>\n",
       "      <td>0.559118</td>\n",
       "      <td>0.491887</td>\n",
       "    </tr>\n",
       "    <tr>\n",
       "      <th>min</th>\n",
       "      <td>0.000000</td>\n",
       "      <td>0.000000</td>\n",
       "      <td>49.080595</td>\n",
       "      <td>-123.349961</td>\n",
       "      <td>0.000000</td>\n",
       "      <td>1.000000</td>\n",
       "      <td>0.000000</td>\n",
       "    </tr>\n",
       "    <tr>\n",
       "      <th>25%</th>\n",
       "      <td>13.000000</td>\n",
       "      <td>493.000000</td>\n",
       "      <td>49.222585</td>\n",
       "      <td>-123.131280</td>\n",
       "      <td>12.000000</td>\n",
       "      <td>1.000000</td>\n",
       "      <td>0.000000</td>\n",
       "    </tr>\n",
       "    <tr>\n",
       "      <th>50%</th>\n",
       "      <td>17.000000</td>\n",
       "      <td>954.000000</td>\n",
       "      <td>49.263982</td>\n",
       "      <td>-123.107465</td>\n",
       "      <td>24.000000</td>\n",
       "      <td>2.000000</td>\n",
       "      <td>0.000000</td>\n",
       "    </tr>\n",
       "    <tr>\n",
       "      <th>75%</th>\n",
       "      <td>17.000000</td>\n",
       "      <td>1332.000000</td>\n",
       "      <td>49.280926</td>\n",
       "      <td>-123.030556</td>\n",
       "      <td>30.000000</td>\n",
       "      <td>2.000000</td>\n",
       "      <td>1.000000</td>\n",
       "    </tr>\n",
       "    <tr>\n",
       "      <th>max</th>\n",
       "      <td>18.000000</td>\n",
       "      <td>1737.000000</td>\n",
       "      <td>49.459624</td>\n",
       "      <td>-122.753704</td>\n",
       "      <td>38.000000</td>\n",
       "      <td>4.000000</td>\n",
       "      <td>2.000000</td>\n",
       "    </tr>\n",
       "  </tbody>\n",
       "</table>\n",
       "</div>"
      ],
      "text/plain": [
       "               city   postal_code      latitude     longitude    categories  \\\n",
       "count  10721.000000  10721.000000  10721.000000  10721.000000  10721.000000   \n",
       "mean      13.539782    908.986289     49.249359   -123.067450     21.309486   \n",
       "std        5.525376    486.192467      0.048763      0.105322     10.421334   \n",
       "min        0.000000      0.000000     49.080595   -123.349961      0.000000   \n",
       "25%       13.000000    493.000000     49.222585   -123.131280     12.000000   \n",
       "50%       17.000000    954.000000     49.263982   -123.107465     24.000000   \n",
       "75%       17.000000   1332.000000     49.280926   -123.030556     30.000000   \n",
       "max       18.000000   1737.000000     49.459624   -122.753704     38.000000   \n",
       "\n",
       "       attributes.RestaurantsPriceRange2  attributes.WiFi  \n",
       "count                       10721.000000     10721.000000  \n",
       "mean                            1.741069         0.368809  \n",
       "std                             0.559118         0.491887  \n",
       "min                             1.000000         0.000000  \n",
       "25%                             1.000000         0.000000  \n",
       "50%                             2.000000         0.000000  \n",
       "75%                             2.000000         1.000000  \n",
       "max                             4.000000         2.000000  "
      ]
     },
     "execution_count": 9,
     "metadata": {},
     "output_type": "execute_result"
    }
   ],
   "source": [
    "X.describe()"
   ]
  },
  {
   "cell_type": "code",
   "execution_count": 10,
   "id": "e9049dd5",
   "metadata": {},
   "outputs": [],
   "source": [
    "X1_train, X1_test, y1_train, y1_test = train_test_split(X,y,test_size=0.3,random_state= 42)"
   ]
  },
  {
   "cell_type": "code",
   "execution_count": 11,
   "id": "fb8bd4e7",
   "metadata": {},
   "outputs": [],
   "source": [
    "X1_test.reset_index(drop=True, inplace=True)"
   ]
  },
  {
   "cell_type": "code",
   "execution_count": 12,
   "id": "46c0ae19",
   "metadata": {},
   "outputs": [],
   "source": [
    "# Import MinMaxScaler\n",
    "from sklearn.preprocessing import MinMaxScaler\n",
    "\n",
    "# Instantiate MinMaxScaler and use it to rescale X_train and X_test\n",
    "scaler = MinMaxScaler(feature_range=(0,1))\n",
    "rescaledX_train = scaler.fit_transform(X1_train)\n",
    "rescaledX_test = scaler.transform(X1_test)"
   ]
  },
  {
   "cell_type": "code",
   "execution_count": 13,
   "id": "4b102c28",
   "metadata": {},
   "outputs": [],
   "source": [
    "import pickle"
   ]
  },
  {
   "cell_type": "code",
   "execution_count": 14,
   "id": "19d07f50",
   "metadata": {},
   "outputs": [],
   "source": [
    "rf_model = pickle.load(open('rf_model.sav', 'rb'))\n"
   ]
  },
  {
   "cell_type": "code",
   "execution_count": 15,
   "id": "d2bdfaa0",
   "metadata": {},
   "outputs": [],
   "source": [
    "y_pred = rf_model.predict(rescaledX_test)\n"
   ]
  },
  {
   "cell_type": "code",
   "execution_count": 16,
   "id": "3ad6102c",
   "metadata": {},
   "outputs": [
    {
     "name": "stdout",
     "output_type": "stream",
     "text": [
      "Accuracy: 0.888\n",
      "Confusion Matrix:\n",
      "[[1945  126]\n",
      " [ 235  911]]\n"
     ]
    }
   ],
   "source": [
    "from sklearn.metrics import confusion_matrix\n",
    "from sklearn.metrics import accuracy_score\n",
    "\n",
    "\n",
    "print('Accuracy: %.3f' % accuracy_score(y1_test, y_pred))\n",
    "cf_mtx = confusion_matrix(y1_test, y_pred)\n",
    "print(\"Confusion Matrix:\")\n",
    "print(cf_mtx)"
   ]
  },
  {
   "cell_type": "code",
   "execution_count": 17,
   "id": "bbbae2ab",
   "metadata": {},
   "outputs": [],
   "source": [
    "pred_df = pd.DataFrame(y_pred, columns=['Prediction'])\n"
   ]
  },
  {
   "cell_type": "code",
   "execution_count": 18,
   "id": "bb2eb981",
   "metadata": {},
   "outputs": [],
   "source": [
    "rf_df=pd.concat((X_test, pred_df),axis=1)\n"
   ]
  },
  {
   "cell_type": "code",
   "execution_count": 19,
   "id": "14104311",
   "metadata": {},
   "outputs": [
    {
     "name": "stdout",
     "output_type": "stream",
     "text": [
      "<class 'pandas.core.frame.DataFrame'>\n",
      "RangeIndex: 3217 entries, 0 to 3216\n",
      "Data columns (total 8 columns):\n",
      " #   Column                             Non-Null Count  Dtype  \n",
      "---  ------                             --------------  -----  \n",
      " 0   city                               3217 non-null   object \n",
      " 1   postal_code                        3217 non-null   object \n",
      " 2   latitude                           3217 non-null   float64\n",
      " 3   longitude                          3217 non-null   float64\n",
      " 4   categories                         3217 non-null   object \n",
      " 5   attributes.RestaurantsPriceRange2  3217 non-null   int64  \n",
      " 6   attributes.WiFi                    3217 non-null   object \n",
      " 7   Prediction                         3217 non-null   int32  \n",
      "dtypes: float64(2), int32(1), int64(1), object(4)\n",
      "memory usage: 188.6+ KB\n"
     ]
    }
   ],
   "source": [
    "rf_df.info()"
   ]
  },
  {
   "cell_type": "code",
   "execution_count": 20,
   "id": "617afac5",
   "metadata": {},
   "outputs": [],
   "source": [
    "rf_df.to_csv('rf_df.csv', index=False, header=True)"
   ]
  }
 ],
 "metadata": {
  "kernelspec": {
   "display_name": "Python 3",
   "language": "python",
   "name": "python3"
  },
  "language_info": {
   "codemirror_mode": {
    "name": "ipython",
    "version": 3
   },
   "file_extension": ".py",
   "mimetype": "text/x-python",
   "name": "python",
   "nbconvert_exporter": "python",
   "pygments_lexer": "ipython3",
   "version": "3.8.8"
  }
 },
 "nbformat": 4,
 "nbformat_minor": 5
}
